{
 "cells": [
  {
   "cell_type": "code",
   "execution_count": 1,
   "metadata": {},
   "outputs": [
    {
     "name": "stdout",
     "output_type": "stream",
     "text": [
      "The account is created\n",
      " Deposit is successful and the balance in the account is 10000.000000\n",
      "The withdraw is successful and balance is 3477.000000\n",
      "balance in the acount is 3477.000000\n"
     ]
    }
   ],
   "source": [
    "class Bank:\n",
    "    def __init__(self):\n",
    "        self.balance = 0\n",
    "        print(\"The account is created\")\n",
    "        \n",
    "    def deposit(self):\n",
    "        amount = float(input(\"Enter the amount to be deposited : \"))\n",
    "        self.balance += amount                     ## self.balance = self.balance + amount\n",
    "        print(\" Deposit is successful and the balance in the account is %f\" % self.balance)\n",
    "        \n",
    "    def withdraw(self):\n",
    "        amount = float(input(\"Enter the amount to be withdraw : \"))\n",
    "        if(self.balance >= amount):\n",
    "            self.balance -= amount\n",
    "            print(\"The withdraw is successful and balance is %f\" % self.balance)\n",
    "            \n",
    "        else:\n",
    "            print(\"insufficient balance\")    \n",
    "            \n",
    "    def enquiry(self):\n",
    "        print(\"balance in the acount is %f\" % self.balance)\n",
    "        \n",
    "        \n",
    "acc = Bank()\n",
    "acc.deposit()\n",
    "acc.withdraw()\n",
    "acc.enquiry()"
   ]
  }
 ],
 "metadata": {
  "kernelspec": {
   "display_name": "Python 3",
   "language": "python",
   "name": "python3"
  },
  "language_info": {
   "codemirror_mode": {
    "name": "ipython",
    "version": 3
   },
   "file_extension": ".py",
   "mimetype": "text/x-python",
   "name": "python",
   "nbconvert_exporter": "python",
   "pygments_lexer": "ipython3",
   "version": "3.10.7"
  },
  "orig_nbformat": 4,
  "vscode": {
   "interpreter": {
    "hash": "315f847cfb823ac3caaf01cae7659bcfed52a7a40830e751d97296265654d3c9"
   }
  }
 },
 "nbformat": 4,
 "nbformat_minor": 2
}
