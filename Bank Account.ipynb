{
 "cells": [
  {
   "cell_type": "markdown",
   "metadata": {},
   "source": [
    "### Python - Exceptions Handling :\n",
    "\n",
    "- Python provides two very important features to handle any unexpected error in your Python programs and to add debugging capabilities in them.\n",
    "\n",
    "  - Exception Handling : exceptions can be handled using a try statement. The critical operation which can raise an exception is placed inside the try clause. The code that handles the exceptions is written in the except clause.\n",
    "  - Assertions         : In Python, assertions are statements that you can use to set sanity checks during the development process. Assertions allow you to test the correctness of your code by checking if some specific  \n",
    "                         conditions remain true, which can come in handy while you’re debugging code.\n",
    "\n"
   ]
  },
  {
   "cell_type": "markdown",
   "metadata": {},
   "source": [
    "### Errors or mistakes in a program are often referred to as bugs. They are almost always the fault of the programmer. The process of finding and eliminating errors is called debugging. Errors can be classified into three major groups:\n",
    "\n",
    "- Syntax errors\n",
    "- Runtime errors\n",
    "- Logical errors"
   ]
  },
  {
   "cell_type": "markdown",
   "metadata": {},
   "source": [
    "### List of Standard Exceptions :\n",
    " \n",
    "  - IndentationError : \n",
    "  - Raised when indentation is not specified properly.\n",
    "\n",
    "  - Python will find these kinds of errors when it tries to parse your program, and exit with an error message without running anything. Syntax errors are mistakes in the use of the Python language, and are analogous to spelling - or grammar mistakes in a language like English: for example, the sentence Would you some tea? does not make sense – it is missing a verb.\n",
    "\n",
    "### Common Python syntax errors include:\n",
    "- leaving out a keyword\n",
    "- putting a keyword in the wrong place\n",
    "- leaving out a symbol, such as a colon, comma or brackets\n",
    "- misspelling a keyword\n",
    "- ncorrect indentation\n",
    "- empty block\n",
    "\n",
    "   "
   ]
  },
  {
   "cell_type": "code",
   "execution_count": 1,
   "metadata": {},
   "outputs": [],
   "source": [
    "a = 12"
   ]
  },
  {
   "cell_type": "code",
   "execution_count": null,
   "metadata": {},
   "outputs": [],
   "source": [
    "### SyntaxError : a \" syntax error\"  can be a forgotten quotation mark, a missing semicolon at the end of a line, missing parenthesis, or extra characters.a syntax error can be a forgotten quotation mark, \n",
    "### a missing semicolon at the end of a line, missing parenthesis, or extra characters. This leads to a \" parse error\" , because the code cannot be read and interpreted correctly by the PHP parser.\n",
    "\n",
    "if (a<10)\n",
    "print(\"a is less than 10\")"
   ]
  },
  {
   "cell_type": "code",
   "execution_count": null,
   "metadata": {},
   "outputs": [],
   "source": [
    "### IndentationError\n",
    "\n",
    "if (a<10):\n",
    "print(\"a is less than 10\")"
   ]
  },
  {
   "cell_type": "code",
   "execution_count": null,
   "metadata": {},
   "outputs": [],
   "source": [
    "### SyntaxError\n",
    "\n",
    "x = int(input('Enter a number: '))\n",
    "\n",
    "whille x % 2 == 0:                                #### while x % 2 == 0 is correct\n",
    "    print('You have entered an even number.')\n",
    "else:\n",
    "    print('You have entered an odd number.')"
   ]
  },
  {
   "cell_type": "markdown",
   "metadata": {},
   "source": [
    "#### Logical errors (Exception) :\n",
    "\n",
    "-  also called semantic errors, logical errors cause the program to behave incorrectly, but they do not usually crash the program. Unlike a program with syntax errors, \n",
    "-  a program with logic errors can be run, but it does not operate as intended."
   ]
  },
  {
   "cell_type": "code",
   "execution_count": null,
   "metadata": {},
   "outputs": [],
   "source": [
    "## Logical errors : )     7+5\n",
    "\n",
    "x = float (input(\"Enter a number: \"))\n",
    "y = float (input(\"Enter a number: \"))\n",
    "\n",
    "z = x+y / 2        #### z = (x+y) / 2  is correct code (it s logical error :because of the order of operations in arithmetic (the division is evaluated before addition) the program will not give the correct answer )\n",
    "\n",
    "print(\"The average of the two numbers you have entred is :\", z)"
   ]
  },
  {
   "cell_type": "code",
   "execution_count": null,
   "metadata": {},
   "outputs": [],
   "source": [
    "## correct result :\n",
    "\n",
    "x = float (input(\"Enter a number: \"))\n",
    "y = float (input(\"Enter a number: \"))\n",
    "\n",
    "z = (x+y) / 2 \n",
    "\n",
    "print(\"The average of the two numbers you have entred is : \", z)"
   ]
  },
  {
   "cell_type": "markdown",
   "metadata": {},
   "source": [
    "### ZeroDivisionError : \n",
    "\n",
    "- Raised when division or modulo by zero takes place for all numeric types."
   ]
  },
  {
   "cell_type": "code",
   "execution_count": null,
   "metadata": {},
   "outputs": [],
   "source": [
    "1/0"
   ]
  },
  {
   "cell_type": "markdown",
   "metadata": {},
   "source": [
    "### FileNotFoundError\n",
    "\n",
    "- The Python FileNotFoundError: [Errno 2] No such file or directory error is often raised by the os library. This error tells you that you are trying to access a file or folder that does not exist. To fix this error, check that you are referring to the right file or folder in your program"
   ]
  },
  {
   "cell_type": "code",
   "execution_count": null,
   "metadata": {},
   "outputs": [],
   "source": [
    "open(\"text.txt\")"
   ]
  },
  {
   "cell_type": "markdown",
   "metadata": {},
   "source": [
    "### NameError : \n",
    "\n",
    "- Raised when an identifier is not found in the local or global namespace."
   ]
  },
  {
   "cell_type": "code",
   "execution_count": null,
   "metadata": {},
   "outputs": [],
   "source": [
    "a = 10\n",
    "b = 20\n",
    "print(\"Addition\" , a+c)   ### \"c\" is not defined "
   ]
  },
  {
   "cell_type": "markdown",
   "metadata": {},
   "source": [
    "### Python Errors and exceptions :\n",
    "- There are many built-in exceptions in python. We can look at them by running\n",
    "- This will return a module of built-in exceptions, functions, and attributes."
   ]
  },
  {
   "cell_type": "code",
   "execution_count": null,
   "metadata": {},
   "outputs": [],
   "source": [
    "### built-in exceptions in python:\n",
    "\n",
    "print(dir(locals()[\"__builtins__\"]))"
   ]
  },
  {
   "cell_type": "markdown",
   "metadata": {},
   "source": [
    "### Python Exception Handling (try..except..finally):\n",
    "\n",
    "- Try---->\n",
    "\n",
    "- Try برای گرفتن و مدیریت خطا در پایتون استفاده میشود. اگر کد مشکوکی دارید که ممکن است استثنا ایجاد کند، می توانید با قرار دادن کد مشکوک در بلاک try و except \n",
    "- از برنامه خود محافظت کنید\n",
    "\n",
    "- Except---->\n",
    "\n",
    "\n",
    "- Finally---->"
   ]
  },
  {
   "cell_type": "markdown",
   "metadata": {},
   "source": [
    "### assertionerror in python means : \n",
    "\n",
    "- Assertion is a programming concept used while writing a code where the user declares a condition to be true using assert statement prior to running the module. If the condition is True, the control simply moves to the next line of code.\n",
    "- If the “ assert “ condition is false or does not satisfy the condition then, it will halt the program and show the Assertion Error.\n",
    "- https://www.tutorialspoint.com/python/assertions_in_python.htm"
   ]
  },
  {
   "cell_type": "code",
   "execution_count": null,
   "metadata": {},
   "outputs": [],
   "source": [
    "z = 1\n",
    "y = 3\n",
    "assert y != 3 , \"InvalidOperation\"     ### y equal to zero \n",
    "print(y/z)"
   ]
  },
  {
   "cell_type": "code",
   "execution_count": null,
   "metadata": {},
   "outputs": [],
   "source": [
    "x = 4\n",
    "assert x == 5\n",
    "print(' x is equals to 5 ')   ###  برای تست کردن کد توسط برنامه نویس استفاده میشود"
   ]
  },
  {
   "cell_type": "code",
   "execution_count": null,
   "metadata": {},
   "outputs": [],
   "source": [
    "x = 1\n",
    "y = 3\n",
    "assert y == 3 , \"InvalidOperation\"     ### y is equal to 3 \n",
    "print(y/x)"
   ]
  },
  {
   "cell_type": "markdown",
   "metadata": {},
   "source": [
    "###ZeroDivisionError :\n",
    "\n",
    "- is a built-in Python exception thrown when a number is divided by 0. This means that the exception raised when the second argument of a division or modulo operation is zero. In Mathematics, when a number is divided by a zero, the result is an infinite number."
   ]
  },
  {
   "cell_type": "code",
   "execution_count": null,
   "metadata": {},
   "outputs": [],
   "source": [
    "a = 6\n",
    "b = int(input())  ## put 0 \n",
    "a/b"
   ]
  },
  {
   "cell_type": "markdown",
   "metadata": {},
   "source": [
    "### Make Exception error and Manage it with \" try/except \"\n",
    "\n",
    "- Control exception with \" try statement \"\n",
    "- Catching Exceptions in Python\n",
    "- In Python, exceptions can be handled using a \" try statement \"\n",
    "\n",
    "### The idea of the try-except block is this:\n",
    "\n",
    "- try: the code with the exception(s) to catch. If an exception is raised, it jumps straight into the except block.\n",
    "\n",
    "- except: this code is only executed if an exception occured in the try block. The except block is required with a try block, even if it contains only the pass statement.\n",
    "\n",
    "- try:\n",
    "    <do something>\n",
    "except Exception:\n",
    "    <handle the error>\n"
   ]
  },
  {
   "cell_type": "code",
   "execution_count": null,
   "metadata": {},
   "outputs": [],
   "source": [
    "try:\n",
    "    a = 10\n",
    "    b = 9\n",
    "    c = a / b\n",
    "    print(c)\n",
    "except:\n",
    "    print(\"can't divide by zero and private different number\")"
   ]
  },
  {
   "cell_type": "code",
   "execution_count": null,
   "metadata": {},
   "outputs": [],
   "source": [
    "try: \n",
    "    6 / 0\n",
    "except ZeroDivisionError: \n",
    "    print('Divided by zero')\n",
    "\n",
    "print('Should reach here')"
   ]
  },
  {
   "cell_type": "code",
   "execution_count": null,
   "metadata": {},
   "outputs": [],
   "source": [
    "try:\n",
    "    x = input(\"Enter number: \")\n",
    "    x = x + 1\n",
    "    print(x)\n"
   ]
  },
  {
   "cell_type": "code",
   "execution_count": null,
   "metadata": {},
   "outputs": [],
   "source": [
    "try:\n",
    "    x = input(\"Enter number: \")\n",
    "    x = x + 1\n",
    "    print(x)\n",
    "except:\n",
    "    print(\"invalid input\")"
   ]
  },
  {
   "cell_type": "code",
   "execution_count": null,
   "metadata": {},
   "outputs": [],
   "source": [
    "def divide(x,y):\n",
    "    try:\n",
    "        ### working of try()\n",
    "        result = x // y\n",
    "        print(\"Yeah !Your answer is :\" , result) \n",
    "    except ZeroDivisionError:\n",
    "        print(\"Sorry ! You are dividing by zero\")\n",
    "\n",
    "# Look at parameters and note the working of Program        \n",
    "divide(3, 0)"
   ]
  },
  {
   "cell_type": "code",
   "execution_count": null,
   "metadata": {},
   "outputs": [],
   "source": [
    "try:\n",
    "    k =  5 // 0 # raises divide by zero exception.   ## Floor division\n",
    "    print(k)\n",
    "    \n",
    "# handles zerodivision exception    \n",
    "except ZeroDivisionError:\n",
    "    print(\"Can't divide by zero\")\n",
    "    \n",
    "finally:\n",
    "    print('This is always executed')"
   ]
  },
  {
   "cell_type": "markdown",
   "metadata": {},
   "source": [
    "### \" Try \" to open and write to a file that is not writable:\n",
    "\n",
    "- To open the file, use the built-in open() function.\n",
    "- The open() function returns a file object, which has a read() method for reading the content of the file:\n",
    "\n",
    "- f = open(\"demofile.txt\", \"r\")\n",
    "- print(f.read())"
   ]
  },
  {
   "attachments": {},
   "cell_type": "markdown",
   "metadata": {},
   "source": [
    " ### There are access modes in python: کلید واژه اسسرت در پایتون راهی برای بررسی مقدار یک متغیر و تولید ارور است \n",
    " \n",
    " - Read Only ('r'): Open text file for reading.\n",
    " - Read and Write ('r+'): Open the file for reading and writing. \n",
    " - Write Only ('w'): Open the file for writing. \n",
    " - Write and Read ('w+'): Open the file for reading and writing.\n",
    " - Append Only ('a'): Open the file for writing. \n",
    " - Append and Read (‘a+’): Open the file for reading and writing.\n",
    " - "
   ]
  },
  {
   "cell_type": "code",
   "execution_count": null,
   "metadata": {},
   "outputs": [],
   "source": [
    "### Get Text From Txt File Python\n",
    "\n",
    "f = open (\"E:\\\\MEGA-RECOVERYKEY.txt\" , \"r\" )\n",
    "print(f.read())"
   ]
  },
  {
   "cell_type": "markdown",
   "metadata": {},
   "source": [
    "### Python File Write :\n",
    "\n",
    "- To write to an existing file, you must add a parameter to the open() function:\n",
    "\n",
    "- \"a\" - Append - will append to the end of the file\n",
    "\n",
    "- \"w\" - Write - will overwrite any existing content"
   ]
  },
  {
   "cell_type": "code",
   "execution_count": null,
   "metadata": {},
   "outputs": [],
   "source": [
    "### \"w\" - Write - will overwrite any existing content\n",
    "\n",
    "f =open(\"E:\\\\MEGA-RECOVERYKEY.txt\" , \"w\")\n",
    "f.write(\"Now the file has more content!\")\n",
    "f.close()\n",
    "\n",
    "#open and read the file after the appending:\n",
    "f =open(\"E:\\\\MEGA-RECOVERYKEY.txt\" , \"r\")\n",
    "print(f.read())\n"
   ]
  },
  {
   "cell_type": "code",
   "execution_count": null,
   "metadata": {},
   "outputs": [],
   "source": [
    "### \"a\" - Append - will append to the end of the file\n",
    "\n",
    "f =open(\"E:\\\\MEGA-RECOVERYKEY.txt\" , \"a\")\n",
    "f.write(\".........think about it\")\n",
    "f.close()\n",
    "\n",
    "#open and read the file after the appending:\n",
    "f =open(\"E:\\\\MEGA-RECOVERYKEY.txt\" , \"r\")\n",
    "print(f.read())\n"
   ]
  },
  {
   "cell_type": "markdown",
   "metadata": {},
   "source": [
    "### iNeuron imran example :"
   ]
  },
  {
   "cell_type": "code",
   "execution_count": null,
   "metadata": {},
   "outputs": [],
   "source": [
    "try:\n",
    "    f=open(\"test.txt\",\"r\")\n",
    "    f.write(\"iNeuron\")\n",
    "    \n",
    "except:\n",
    "    print(\"There was mistake\")\n",
    "    \n",
    "print(\"This is outer block\")"
   ]
  },
  {
   "cell_type": "code",
   "execution_count": null,
   "metadata": {},
   "outputs": [],
   "source": [
    "f=open(\"test.txt\",\"r\")"
   ]
  },
  {
   "cell_type": "code",
   "execution_count": null,
   "metadata": {},
   "outputs": [],
   "source": [
    "l= [4,5,6,7,8,9,9]\n",
    "\n",
    "try:\n",
    "    for i in range(len(l)):\n",
    "        print(l)\n",
    "except:\n",
    "    print(\"This is not working\")"
   ]
  },
  {
   "cell_type": "code",
   "execution_count": null,
   "metadata": {},
   "outputs": [],
   "source": [
    "### IndexError: list index out of range\n",
    "\n",
    "l= [4,5,6,7,8,9,9]\n",
    "for i in range(len(l)+1):\n",
    "        print(l[i])\n",
    "\n",
    "\n",
    "    "
   ]
  },
  {
   "cell_type": "markdown",
   "metadata": {},
   "source": [
    "### \" try/except \" function:"
   ]
  },
  {
   "cell_type": "code",
   "execution_count": null,
   "metadata": {},
   "outputs": [],
   "source": [
    "l= [4,5,6,7,8,9,9]\n",
    "\n",
    "try:\n",
    "    for i in range(len(l)+1):\n",
    "        print(l[i])\n",
    "except:\n",
    "    print(\"This is not working\")"
   ]
  },
  {
   "cell_type": "markdown",
   "metadata": {},
   "source": [
    "### What does ''except Exception as e'' mean in python? \n",
    "\n",
    "### What difference between the except statement and the except Exception as e statement in Python :\n",
    "\n",
    "- The simple except statement is utilized in general cases, and it excepts all the exceptions.\n",
    "    - The syntax for the simple except statement is:\n",
    "    \n",
    "       - try:\n",
    "          #### write code that may throw exception\n",
    "       - except:\n",
    "          #### the code for handling the exception\n",
    " \n",
    "- except Exception as \" e \" statement:\n",
    "\n",
    "    - is a statement that defines an argument to the except statement.\n",
    "    - While the syntax for the except Exception as e statement is:\n",
    "\n",
    "       - try:\n",
    "            #### write code that may throw exception\n",
    "       - except Exception as e:\n",
    "            #### the code for handling the exception"
   ]
  },
  {
   "cell_type": "code",
   "execution_count": null,
   "metadata": {},
   "outputs": [],
   "source": [
    "### Handle IndexError :\n",
    "\n",
    "l= [4,5,6,7,8,9,9]\n",
    "\n",
    "try:\n",
    "    for i in range(len(l)+1):\n",
    "        print(l[i])\n",
    "except Exception as e:              ## except Exception as \" e \"  in python .\n",
    "    print(e)\n",
    "    print(\"This is not working\")"
   ]
  },
  {
   "cell_type": "markdown",
   "metadata": {},
   "source": [
    "### Another Example :"
   ]
  },
  {
   "cell_type": "markdown",
   "metadata": {},
   "source": [
    "### What is Python ValueError? :\n",
    "\n",
    "- Python ValueError is raised when a function receives an argument of the correct type but an inappropriate value. Also, the situation should not be   described by a more precise exception such as IndexError.\n",
    " "
   ]
  },
  {
   "cell_type": "code",
   "execution_count": null,
   "metadata": {},
   "outputs": [],
   "source": [
    "import math\n",
    "print(math.sqrt(-1))  ## ValueError with mathematical operations, such as square root of a negative number (-1 is wrong )"
   ]
  },
  {
   "cell_type": "code",
   "execution_count": null,
   "metadata": {},
   "outputs": [],
   "source": [
    "a=int(input())\n",
    "b=int(input())\n"
   ]
  },
  {
   "cell_type": "code",
   "execution_count": null,
   "metadata": {},
   "outputs": [],
   "source": [
    "### witout error by \" except Exception as e \"\n",
    "try:\n",
    "    a=int(input())\n",
    "    b=int(input())\n",
    "except Exception as e:\n",
    "    print(e)\n",
    "print(\"ineuron\")"
   ]
  },
  {
   "cell_type": "markdown",
   "metadata": {},
   "source": [
    "### Another Example :"
   ]
  },
  {
   "attachments": {},
   "cell_type": "markdown",
   "metadata": {},
   "source": [
    "#### with add \" Except \" with ValueError and  ZeroDivisionError <---------- "
   ]
  },
  {
   "cell_type": "code",
   "execution_count": null,
   "metadata": {},
   "outputs": [],
   "source": [
    "try:\n",
    "    a=int(input(\"Enter value of a :\"))\n",
    "    b=int(input(\"Enter value of b :\"))\n",
    "    c=a/b\n",
    "    print(\"Answe\" , c)\n",
    "    \n",
    "except ValueError:\n",
    "    print(\"Entred value is wrong \") \n",
    "except ZeroDivisionError:\n",
    "    print(\"Can t divided by zero\")\n",
    "    \n",
    "## 10 divided by 5"
   ]
  },
  {
   "attachments": {},
   "cell_type": "markdown",
   "metadata": {},
   "source": [
    "with add \" Except \" with ValueError and  ZeroDivisionError <---------- "
   ]
  },
  {
   "cell_type": "code",
   "execution_count": null,
   "metadata": {},
   "outputs": [],
   "source": [
    "try:\n",
    "    a=int(input(\"Enter value of a :\"))\n",
    "    b=int(input(\"Enter value of b :\"))\n",
    "    c=a/b\n",
    "    print(\"Answe\" , c)\n",
    "    \n",
    "except ValueError:\n",
    "    print(\"Entred value is wrong \") \n",
    "except ZeroDivisionError:\n",
    "    print(\"Can t divided by zero\")\n",
    "    \n",
    "## 5 divided by ten"
   ]
  },
  {
   "cell_type": "code",
   "execution_count": null,
   "metadata": {},
   "outputs": [],
   "source": [
    "try:\n",
    "    a=int(input(\"Enter value of a :\"))\n",
    "    b=int(input(\"Enter value of b :\"))\n",
    "    c=a/b\n",
    "    print(\"Answe\" , c)\n",
    "    \n",
    "except ValueError:\n",
    "    print(\"Entred value is wrong \") \n",
    "except ZeroDivisionError:\n",
    "    print(\"Can t divided by zero\")\n",
    "    \n",
    "## 5 divided by 0"
   ]
  },
  {
   "cell_type": "markdown",
   "metadata": {},
   "source": [
    "### What is meant by import sys?\n",
    "\n",
    "- The python sys module provides functions and variables which are used to manipulate different parts of the Python Runtime Environment. \n",
    "- It lets us access system-specific parameters and functions."
   ]
  },
  {
   "cell_type": "markdown",
   "metadata": {},
   "source": [
    "### iNeuron Example :"
   ]
  },
  {
   "cell_type": "code",
   "execution_count": null,
   "metadata": {},
   "outputs": [],
   "source": [
    "import sys\n",
    "\n",
    "random_list = [\"a\" , 0 , 2]\n",
    "\n",
    "for i in random_list:                 ## Its loop \n",
    "    try:\n",
    "        print(\"The entry is :\" , i)\n",
    "        r = 1 / int(i)                ## 1 / a is <class 'ValueError'>  ## 1 / 0 is <class 'ZeroDivisionError'>  \n",
    "        break\n",
    "    except:\n",
    "        print(\"OOps\",sys.exc_info()[0],\"Occured\")    ## Add [0]         ## sys.exc_info() related to <class '*******Error'>\n",
    "        print(\"Next Entry\")\n",
    "        \n",
    "print(\"The reciprocal of\" , i ,\"is\" ,r)"
   ]
  },
  {
   "attachments": {},
   "cell_type": "markdown",
   "metadata": {},
   "source": [
    "## Ruels:\n",
    "\n",
    "### try:\n",
    "    # Block of code\n",
    "### except exceptions:\n",
    "    # Block of code\n",
    "### else:\n",
    "    #This code excecutes when exception not occured."
   ]
  },
  {
   "attachments": {},
   "cell_type": "markdown",
   "metadata": {},
   "source": [
    "### example :"
   ]
  },
  {
   "attachments": {},
   "cell_type": "markdown",
   "metadata": {},
   "source": [
    "### The assert statement:\n",
    "- It helps detect problems early in your program, where the cause is clear, rather than later when some other operation fails. A type error in Python, for example, can go through several layers of code before actually raising an Exception if not caught early on.\n"
   ]
  },
  {
   "cell_type": "code",
   "execution_count": null,
   "metadata": {},
   "outputs": [],
   "source": [
    "try:\n",
    "    num=int(input(\"Enter a number: \"))\n",
    "    assert num % 2 == 0 \n",
    "except:\n",
    "    print(\"Not a even number\")\n",
    "else:\n",
    "    reciprocal=1/num\n",
    "    print(reciprocal)\n",
    "    \n",
    "### Put 5 and result is : Not a even number"
   ]
  },
  {
   "cell_type": "code",
   "execution_count": null,
   "metadata": {},
   "outputs": [],
   "source": [
    "try:\n",
    "    num=int(input(\"Enter a number: \"))\n",
    "    assert num % 2 == 0 \n",
    "except:\n",
    "    print(\"Not a even number\")\n",
    "else:\n",
    "    reciprocal=1/num\n",
    "    print(reciprocal)\n",
    "    \n",
    "### Put 10 and result is : 0.1"
   ]
  },
  {
   "attachments": {},
   "cell_type": "markdown",
   "metadata": {},
   "source": [
    "### Example: with add \" else \" insted of Except <---------- "
   ]
  },
  {
   "cell_type": "code",
   "execution_count": null,
   "metadata": {},
   "outputs": [],
   "source": [
    "try:\n",
    "    a=int(input(\"Enter value of a :\"))\n",
    "    b=int(input(\"Enter value of b :\"))\n",
    "    c=a/b\n",
    "    print(\"Answe\" , c)\n",
    "    \n",
    "except ZeroDivisionError:\n",
    "    print(\"Can not divided by Zero \") \n",
    "\n",
    "else:\n",
    "    print(\"Else Block\")\n",
    "    \n",
    "## put 4 and 0 "
   ]
  },
  {
   "cell_type": "code",
   "execution_count": null,
   "metadata": {},
   "outputs": [],
   "source": [
    "try:\n",
    "    a=int(input(\"Enter value of a :\"))\n",
    "    b=int(input(\"Enter value of b :\"))\n",
    "    c=a/b\n",
    "    print(\"Answe\" , c)\n",
    "    \n",
    "except ZeroDivisionError:\n",
    "    print(\"Can not divided by Zero \") \n",
    "\n",
    "else:\n",
    "    print(\"Else Block\")\n",
    "    \n",
    "## put 5 and 2 "
   ]
  },
  {
   "attachments": {},
   "cell_type": "markdown",
   "metadata": {},
   "source": [
    "### Example: with add \" finally \" insted of Else <---------- "
   ]
  },
  {
   "attachments": {},
   "cell_type": "markdown",
   "metadata": {},
   "source": [
    "### Python finally Keyword :\n",
    "- The finally keyword is used in try...except blocks. It defines a block of code to run when the try...except...else block is final.\n",
    "- The finally block will be executed no matter if the try block raises an error or not.\n",
    "- This can be useful to close objects and clean up resources.\n",
    "\n",
    "https://www.geeksforgeeks.org/try-except-else-and-finally-in-python/\n",
    "\n",
    "### Exception handling with try, except, else, and finally:\n",
    "- Try     : This block will test the excepted error to occur\n",
    "- Except  :  Here you can handle the error\n",
    "- Else    : If there is no exception then this block will be executed\n",
    "- Finally : Finally block always gets executed either exception is generated or not"
   ]
  },
  {
   "cell_type": "code",
   "execution_count": null,
   "metadata": {},
   "outputs": [],
   "source": [
    "try:\n",
    "    a=int(input(\"Enter value of a :\"))\n",
    "    b=int(input(\"Enter value of b :\"))\n",
    "    c=a/b\n",
    "    print(\"Answer\" , c)\n",
    "    \n",
    "except ZeroDivisionError:\n",
    "    print(\"Can not divided by Zero \")\n",
    "    \n",
    "finally:\n",
    "    print(\"From finally block Block\")     \n",
    "    \n",
    "## put 4 and 0 "
   ]
  },
  {
   "attachments": {},
   "cell_type": "markdown",
   "metadata": {},
   "source": [
    "### Example: with Function"
   ]
  },
  {
   "cell_type": "code",
   "execution_count": null,
   "metadata": {},
   "outputs": [],
   "source": [
    "def divide(x,y):\n",
    "    print(x/y)"
   ]
  },
  {
   "cell_type": "code",
   "execution_count": null,
   "metadata": {},
   "outputs": [],
   "source": [
    "divide(10,2)\n",
    "divide(10,0)\n",
    "divide(10,4)\n",
    "\n",
    "### Error appear after run :"
   ]
  },
  {
   "attachments": {},
   "cell_type": "markdown",
   "metadata": {},
   "source": [
    "### solved previous example :"
   ]
  },
  {
   "cell_type": "code",
   "execution_count": null,
   "metadata": {},
   "outputs": [],
   "source": [
    "def divide(x,y):\n",
    "    try:\n",
    "        print(x/y)\n",
    "    except ZeroDivisionError as e:\n",
    "        print(e)\n",
    "        "
   ]
  },
  {
   "cell_type": "code",
   "execution_count": null,
   "metadata": {},
   "outputs": [],
   "source": [
    "divide(10,2)\n",
    "divide(10,0)\n",
    "divide(10,4)"
   ]
  },
  {
   "attachments": {},
   "cell_type": "markdown",
   "metadata": {},
   "source": [
    "### Example:  Function<----->try<----->except<----->else<----->finally"
   ]
  },
  {
   "cell_type": "code",
   "execution_count": null,
   "metadata": {},
   "outputs": [],
   "source": [
    "def divide(x,y):\n",
    "    try:\n",
    "        print(x/y)                      ## print(f\"{x}/{y} is {x / y}\")\n",
    "    except ZeroDivisionError as e:\n",
    "        print(e)\n",
    "    else:\n",
    "        print(\"from else Block\")\n",
    "    finally:\n",
    "        print(\"from finally\")"
   ]
  },
  {
   "cell_type": "code",
   "execution_count": null,
   "metadata": {},
   "outputs": [],
   "source": [
    "divide(10,2)\n",
    "divide(10,0)\n",
    "divide(10,4)"
   ]
  },
  {
   "attachments": {},
   "cell_type": "markdown",
   "metadata": {},
   "source": [
    "### Example:  What is nested try block in Python?\n",
    "\n",
    "     - We can have nested try-except blocks in Python. In this case, if an exception is raised in the nested try block, the nested except block is used to handle it. In case the nested except is not able to handle it, the outer except blocks are used to handle the exception.\n",
    "\n",
    "     - می‌توانیم بلوک‌های اکسپت- ترای  تودرتو در پایتون داشته باشیم. در این حالت، اگر یک استثنا در بلوک (ترای) تو در تو مطرح شود، بلوک تودرتو جز برای مدیریت آن استفاده می شود. در صورتی که تودرتو جز قادر به مدیریت آن نباشد، بلوک های جز بیرونی برای رسیدگی به استثنا استفاده می شود.\n",
    "\n",
    "     - https://www.askpython.com/python/python-exception-handling\n",
    "     "
   ]
  },
  {
   "cell_type": "code",
   "execution_count": null,
   "metadata": {},
   "outputs": [],
   "source": [
    "x = 10\n",
    "y = 0\n",
    " \n",
    "try:\n",
    "    print(\"outer try block\")\n",
    "    try:\n",
    "        print(\"nested try block\")\n",
    "        print(x / y)\n",
    "    except TypeError as te:\n",
    "        print(\"nested except block\")\n",
    "        print(te)\n",
    "except ZeroDivisionError as ze:\n",
    "    print(\"outer except block\")\n",
    "    print(ze)"
   ]
  },
  {
   "cell_type": "code",
   "execution_count": null,
   "metadata": {},
   "outputs": [],
   "source": [
    "x = 10\n",
    "y = 12\n",
    " \n",
    "try:\n",
    "    print(\"outer try block\")\n",
    "    try:\n",
    "        print(\"nested try block\")\n",
    "        print(x / y)\n",
    "    except TypeError as te:\n",
    "        print(\"nested except block\")\n",
    "        print(te)\n",
    "except ZeroDivisionError as ze:\n",
    "    print(\"outer except block\")\n",
    "    print(ze)"
   ]
  },
  {
   "attachments": {},
   "cell_type": "markdown",
   "metadata": {},
   "source": [
    "### Example:  Function<----->Flag loop<----->While loop<----->except"
   ]
  },
  {
   "attachments": {},
   "cell_type": "markdown",
   "metadata": {},
   "source": [
    "### Using Flags With Loops\n",
    "\n",
    "-One problem with while loops is that they only have one conditional. Conditionals can be combined with operators, but that can create messy code that’s hard to read and write.\n",
    "\n",
    "- Especially as code gets more complicated, it can become very handy to use flags to check conditions throughout the loop.\n",
    "\n",
    "- If a programmer is writing a loop to run diagnostics on a car, the loop might need to run until it finds a broken component. Writing the loop so that it checks every single component inside its conditional would be cumbersome and impossible to read through.\n",
    "\n",
    "- یکی از مشکلات حلقه های وایل این است که آنها فقط یک شرطی دارند. شرط ها را می توان با عملگرها ترکیب کرد، اما می تواند کدهای نامرتب ایجاد کند که خواندن و نوشتن آن سخت است. به خصوص که کد پیچیده تر می شود، استفاده از( فلگ) برای بررسی شرایط در سراسر حلقه می تواند بسیار مفید باشد.\n"
   ]
  },
  {
   "cell_type": "code",
   "execution_count": null,
   "metadata": {},
   "outputs": [],
   "source": [
    "def func1():\n",
    "    flag=True\n",
    "    while flag:\n",
    "        try:\n",
    "            a = int(input(\"Enter an integers\"))\n",
    "            if type(a) == int:\n",
    "                return \"yes , You have entered an integer\"\n",
    "            flag=False\n",
    "        except Exception as e:\n",
    "            print(\"You didn t entered an integer ,Please entered an integer\" , e )   \n",
    "            "
   ]
  },
  {
   "cell_type": "code",
   "execution_count": null,
   "metadata": {},
   "outputs": [],
   "source": [
    "func1()"
   ]
  },
  {
   "attachments": {},
   "cell_type": "markdown",
   "metadata": {},
   "source": [
    "### Example:  Try<----->Except<----->else<----->object"
   ]
  },
  {
   "cell_type": "code",
   "execution_count": null,
   "metadata": {},
   "outputs": [],
   "source": [
    "try:\n",
    "    l=[4,5,6,7,8,9]\n",
    "    l[0]\n",
    "except:\n",
    "    print(\"There is issue in my code\") \n",
    "    t=(4,5,6,7,8,9)\n",
    "    print(t)\n",
    "    \n",
    "    try:\n",
    "        t[0] = \"Farshid\"\n",
    "        try:\n",
    "            list|(t)\n",
    "            print(t)\n",
    "        except:\n",
    "            pass\n",
    "    except:\n",
    "        pass\n",
    "else:\n",
    "    print(\"There is no issue with code\")    "
   ]
  },
  {
   "cell_type": "code",
   "execution_count": null,
   "metadata": {},
   "outputs": [],
   "source": [
    "try:\n",
    "    l=[4,5,6,7,8,9]\n",
    "    l[8]\n",
    "except:\n",
    "    print(\"There is issue in my code\") \n",
    "    t=(4,5,6,7,8,9)\n",
    "    print(t)\n",
    "    \n",
    "    try:\n",
    "        print(\"Hi my name is Farshid\")\n",
    "                                                  ###t[0] = \"Farshid\"\n",
    "        try:\n",
    "            k=list|(t)\n",
    "            print(k)\n",
    "        except:\n",
    "            pass\n",
    "    except:\n",
    "        pass\n",
    "else:\n",
    "    print(\"There is no issue with code\")    "
   ]
  },
  {
   "attachments": {},
   "cell_type": "markdown",
   "metadata": {},
   "source": [
    "### Example training in web:"
   ]
  },
  {
   "cell_type": "code",
   "execution_count": null,
   "metadata": {},
   "outputs": [],
   "source": [
    "import sys\n",
    "\n",
    "\n",
    "print(sys.version)\n"
   ]
  },
  {
   "cell_type": "markdown",
   "metadata": {},
   "source": [
    "## sys.exc_info() in python\n",
    "\n",
    "- The sys. exc_info function returns a 3- tuple with the exception, the exception's parameter, and a traceback object that pinpoints the line of Python that raised the exception."
   ]
  },
  {
   "cell_type": "code",
   "execution_count": null,
   "metadata": {},
   "outputs": [],
   "source": [
    "import sys\n",
    "import math\n",
    "a= 2\n",
    "b= 2\n",
    "c= 1\n",
    "try:\n",
    "    x1= (-b+math.sqrt(b*b-4*a*c))/(2*a)\n",
    "    x2= (-b-math.sqrt(b*b-4*a*c))/(2*a)\n",
    "    print (x1, x2)\n",
    "except:\n",
    "    e,p,t= sys.exc_info()\n",
    "    print (e,p)"
   ]
  },
  {
   "cell_type": "code",
   "execution_count": null,
   "metadata": {},
   "outputs": [],
   "source": [
    "### Work With the sys.exc_info() Method\n",
    "\n",
    "import sys\n",
    "import math\n",
    "\n",
    "try:\n",
    "    x = 1/0\n",
    "except:\n",
    "    tuples = sys.exc_info()\n",
    "    print(tuples)"
   ]
  },
  {
   "cell_type": "code",
   "execution_count": null,
   "metadata": {},
   "outputs": [],
   "source": [
    "###  Break Down the Tuple Returned by the sys.exc_info() Method\n",
    "\n",
    "import sys\n",
    "import math\n",
    "\n",
    "try:\n",
    "    x = 1/0\n",
    "except:\n",
    "    tuples = sys.exc_info()\n",
    "    print(\"Type: \", tuples[0])\n",
    "    print(\"Value: \", tuples[1])\n",
    "    print(\"Traceback: \", tuples[2])"
   ]
  },
  {
   "cell_type": "code",
   "execution_count": null,
   "metadata": {},
   "outputs": [],
   "source": [
    "### Use Mathematical Equation With the sys.exc_info() Method\n",
    "\n",
    "import sys\n",
    "import math\n",
    "\n",
    "a= 5\n",
    "b= -10\n",
    "c= 2\n",
    "\n",
    "try:\n",
    "    root1= (-(b)+(math.sqrt(b*b-4*a*c)))/(2*a)\n",
    "    root2= (-(b)-(math.sqrt(b*b-4*a*c)))/(2*a)\n",
    "    print (\"Two real and distinct roots: \", root1, root2)\n",
    "    \n",
    "except:\n",
    "    e,p,t= sys.exc_info()\n",
    "    print (\"Two imaginary and distinct roots! Error generated: \",e,p)\n",
    "    \n",
    "a= 2\n",
    "b= 2\n",
    "c= 1\n",
    "\n",
    "try:\n",
    "    root1= (-(b)+(math.sqrt(b*b-4*a*c)))/(2*a)\n",
    "    root2= (-(b)-(math.sqrt(b*b-4*a*c)))/(2*a)\n",
    "    print (\"Two real and distinct roots: \", root1, root2)\n",
    "    \n",
    "except:\n",
    "    e,p,t= sys.exc_info()\n",
    "    print (\"Two imaginary and distinct roots! Error generated: \",e,p)"
   ]
  },
  {
   "attachments": {},
   "cell_type": "markdown",
   "metadata": {},
   "source": [
    "### Exampe : "
   ]
  },
  {
   "attachments": {},
   "cell_type": "markdown",
   "metadata": {},
   "source": [
    "## open and write to a file that is not writable:\n",
    "\n",
    "- To open the file, use the built-in open() function.\n",
    "- The open() function returns a file object, which has a read() method for reading the content of the file:\n",
    "\n",
    "- file_object = open('file_name', 'mode')\n",
    "- print(f.read())"
   ]
  },
  {
   "attachments": {},
   "cell_type": "markdown",
   "metadata": {},
   "source": [
    " ### There are access modes in python: کلید واژه اسسرت در پایتون راهی برای بررسی مقدار یک متغیر و تولید ارور است \n",
    " \n",
    " - Read Only ('r'): Open text file for reading.\n",
    " - Read and Write ('r+'): Open the file for reading and writing. \n",
    " - Write Only ('w'): Open the file for writing. \n",
    " - Write and Read ('w+'): Open the file for reading and writing.\n",
    " - Append Only ('a'): Open the file for writing. \n",
    " - Append and Read (‘a+’): Open the file for reading and writing.\n",
    " - "
   ]
  },
  {
   "attachments": {},
   "cell_type": "markdown",
   "metadata": {},
   "source": [
    "### Ls command in Python :\n",
    "\n",
    "- Purpose: listdir returns the list of file names and directories in the path specified (by default, the current working directory) while system(\"ls\") only displays them as standard output. "
   ]
  },
  {
   "cell_type": "code",
   "execution_count": null,
   "metadata": {},
   "outputs": [],
   "source": [
    "%ls"
   ]
  },
  {
   "cell_type": "code",
   "execution_count": null,
   "metadata": {},
   "outputs": [],
   "source": [
    "pwd()"
   ]
  },
  {
   "cell_type": "code",
   "execution_count": null,
   "metadata": {},
   "outputs": [],
   "source": [
    "### The open() function returns a file object, which has a read() method for reading the content of the file\n",
    "\n",
    "f=open(\"test777.txt\",\"r\")\n",
    "print(f.read())"
   ]
  },
  {
   "cell_type": "code",
   "execution_count": null,
   "metadata": {},
   "outputs": [],
   "source": [
    "type(f)"
   ]
  },
  {
   "cell_type": "code",
   "execution_count": null,
   "metadata": {},
   "outputs": [],
   "source": [
    "### Return the 32 first characters of the file\n",
    "\n",
    "f=open(\"test777.txt\",\"r\")\n",
    "print(f.read(32))"
   ]
  },
  {
   "cell_type": "code",
   "execution_count": null,
   "metadata": {},
   "outputs": [],
   "source": [
    "### Read one line of the file\n",
    "\n",
    "f=open(\"test777.txt\",\"r\")\n",
    "print(f.readline())"
   ]
  },
  {
   "cell_type": "code",
   "execution_count": null,
   "metadata": {},
   "outputs": [],
   "source": [
    "### Read two lines of the file\n",
    "\n",
    "f=open(\"test777.txt\",\"r\")\n",
    "print(f.readline())\n",
    "print(f.readline())"
   ]
  },
  {
   "cell_type": "code",
   "execution_count": null,
   "metadata": {},
   "outputs": [],
   "source": [
    "### Loop through the file line by line\n",
    "\n",
    "f=open(\"test777.txt\",\"r\")\n",
    "for x in f:\n",
    "    print(x)"
   ]
  },
  {
   "cell_type": "code",
   "execution_count": null,
   "metadata": {},
   "outputs": [],
   "source": [
    "### Close the file when you are finish with it\n",
    "\n",
    "f=open(\"test777.txt\",\"r\")\n",
    "for x in f:\n",
    "    print(x)\n",
    "f.close()"
   ]
  },
  {
   "attachments": {},
   "cell_type": "markdown",
   "metadata": {},
   "source": [
    "#### Write to an Existing File: \n",
    "\n",
    "- To write to an existing file, you must add a parameter to the open() function:\n",
    "\n",
    "- \"a\" - Append - will append to the end of the file\n",
    "\n",
    "- \"w\" - Write - will overwrite any existing content"
   ]
  },
  {
   "cell_type": "code",
   "execution_count": null,
   "metadata": {},
   "outputs": [],
   "source": [
    "###  Append - will append to the end of the file\n",
    "\n",
    "f = open(\"test777.txt\", \"a\")\n",
    "f.write(\"Now the file has more content!\")\n",
    "f.close()"
   ]
  },
  {
   "cell_type": "code",
   "execution_count": null,
   "metadata": {},
   "outputs": [],
   "source": [
    "### Open the file \"text777.txt\" and append content to the file\n",
    "\n",
    "f=open(\"test777.txt\",\"r\")\n",
    "print(f.read())"
   ]
  },
  {
   "cell_type": "code",
   "execution_count": null,
   "metadata": {},
   "outputs": [],
   "source": [
    "### Open the file \"text778.txt\" and overwrite the content\n",
    "\n",
    "f=open(\"text778.txt\",\"w\")\n",
    "f.write(\"Woops! I have deleted the content!\")\n",
    "f.close()"
   ]
  },
  {
   "cell_type": "code",
   "execution_count": null,
   "metadata": {},
   "outputs": [],
   "source": [
    "f = open(\"text778.txt\", \"r\")\n",
    "print(f.read())"
   ]
  },
  {
   "attachments": {},
   "cell_type": "markdown",
   "metadata": {},
   "source": [
    "### Create a New File\n",
    "\n",
    "- To create a new file in Python, use the open() method, with one of the following parameters:\n",
    "\n",
    "- \"x\" - Create - will create a file, returns an error if the file exist\n",
    "\n",
    "- \"a\" - Append - will create a file if the specified file does not exist\n",
    "\n",
    "- \"w\" - Write - will create a file if the specified file does not exist"
   ]
  },
  {
   "attachments": {},
   "cell_type": "markdown",
   "metadata": {},
   "source": [
    "### Delete a File\n",
    "\n",
    "- To delete a file, you must import the OS module, and run its os.remove() function"
   ]
  },
  {
   "cell_type": "code",
   "execution_count": null,
   "metadata": {},
   "outputs": [],
   "source": [
    "import os\n",
    "os.remove(\"text778.txt\")"
   ]
  },
  {
   "attachments": {},
   "cell_type": "markdown",
   "metadata": {},
   "source": [
    "### Check if file exists, then delete it :"
   ]
  },
  {
   "cell_type": "code",
   "execution_count": null,
   "metadata": {},
   "outputs": [],
   "source": [
    "import os\n",
    "if os.path.exists(\"text779.txt\"):\n",
    "    os.remove(\"text779.txt\")\n",
    "    \n",
    "else:\n",
    "    print(\"The file does not exist\")\n"
   ]
  },
  {
   "attachments": {},
   "cell_type": "markdown",
   "metadata": {},
   "source": [
    "### Example with iNeuron \"imran\" :\n"
   ]
  },
  {
   "attachments": {},
   "cell_type": "markdown",
   "metadata": {},
   "source": [
    "### Read file in computer base on common below: \n"
   ]
  },
  {
   "cell_type": "code",
   "execution_count": null,
   "metadata": {},
   "outputs": [],
   "source": [
    "### Read in folder \n",
    "\n",
    "f=open(r\"E:/testsamplepython.txt\",'r')"
   ]
  },
  {
   "cell_type": "code",
   "execution_count": null,
   "metadata": {},
   "outputs": [],
   "source": [
    "print(f.read())"
   ]
  },
  {
   "attachments": {},
   "cell_type": "markdown",
   "metadata": {},
   "source": [
    "### Python File tell() :\n",
    "\n",
    "- Get a file position\n",
    "- The tell() method returns the current file position in a file stream.\n",
    "- file.tell()\n"
   ]
  },
  {
   "cell_type": "code",
   "execution_count": null,
   "metadata": {},
   "outputs": [],
   "source": [
    "f=open(\"test777.txt\",\"r\")\n",
    "print(f.read())\n"
   ]
  },
  {
   "cell_type": "code",
   "execution_count": null,
   "metadata": {},
   "outputs": [],
   "source": [
    "f=open(\"test777.txt\")"
   ]
  },
  {
   "cell_type": "code",
   "execution_count": null,
   "metadata": {},
   "outputs": [],
   "source": [
    "## Read a 4 data \n",
    "\n",
    "f.read(4)"
   ]
  },
  {
   "cell_type": "code",
   "execution_count": null,
   "metadata": {},
   "outputs": [],
   "source": [
    "## Read a 10 data \n",
    "\n",
    "f.read(10)"
   ]
  },
  {
   "cell_type": "code",
   "execution_count": null,
   "metadata": {},
   "outputs": [],
   "source": [
    "### Get a file position\n",
    "\n",
    "f.tell()"
   ]
  },
  {
   "attachments": {},
   "cell_type": "markdown",
   "metadata": {},
   "source": [
    "### Python File seek() Method : \n",
    "\n",
    "- Python file method seek() sets the file's current position at the offset. The whence argument is optional and defaults to 0, which means absolute file positioning, other values are 1 which means seek relative to the current position and 2 means seek relative to the file's end.\n",
    "\n",
    "- Syntax : file.seek(offset)\n"
   ]
  },
  {
   "cell_type": "code",
   "execution_count": null,
   "metadata": {},
   "outputs": [],
   "source": [
    "f.seek(0)"
   ]
  },
  {
   "cell_type": "code",
   "execution_count": null,
   "metadata": {},
   "outputs": [],
   "source": [
    "f.readlines()"
   ]
  },
  {
   "attachments": {},
   "cell_type": "markdown",
   "metadata": {},
   "source": [
    "### Open a file and close file manually :"
   ]
  },
  {
   "cell_type": "code",
   "execution_count": null,
   "metadata": {},
   "outputs": [],
   "source": [
    "try:\n",
    "    f=open(\"test777.txt\")\n",
    "finally:\n",
    "    f.close()"
   ]
  },
  {
   "attachments": {},
   "cell_type": "markdown",
   "metadata": {},
   "source": [
    "### Used Try and finally :"
   ]
  },
  {
   "cell_type": "code",
   "execution_count": null,
   "metadata": {},
   "outputs": [],
   "source": [
    "### The code block below shows the try-finally approach to file stream resource management.\n",
    "\n",
    "file = open(\"test780.txt\",\"w\")\n",
    "try:\n",
    "    file.write(\"The only real mistake is the one from which we learn nothing....\")\n",
    "finally:\n",
    "    file.close()"
   ]
  },
  {
   "attachments": {},
   "cell_type": "markdown",
   "metadata": {},
   "source": [
    "### used \"With \" :"
   ]
  },
  {
   "cell_type": "code",
   "execution_count": null,
   "metadata": {},
   "outputs": [],
   "source": [
    "### Normally, you’d want to use this method for writing to a file, but the \"With\"  statement offers a cleaner approach.\n",
    "\n",
    "with open(\"test781.txt\",\"w\") as file:\n",
    "    \n",
    "    file.write(\"Positive anything is better than negative nothing.\")"
   ]
  },
  {
   "attachments": {},
   "cell_type": "markdown",
   "metadata": {},
   "source": [
    "### without using with statement example:"
   ]
  },
  {
   "cell_type": "code",
   "execution_count": null,
   "metadata": {},
   "outputs": [],
   "source": [
    "### Example 01 : \n",
    "\n",
    "file=open(\"test782\",\"w\")\n",
    "file.write(\"Act as if what you do makes a difference.\")\n",
    "f.close()"
   ]
  },
  {
   "cell_type": "code",
   "execution_count": null,
   "metadata": {},
   "outputs": [],
   "source": [
    "### Example 02 : \n",
    "\n",
    "file = open(\"test783\",\"w\")\n",
    "try:\n",
    "    file.write(\"hello farshid!!!\")\n",
    "finally:\n",
    "    file.close()"
   ]
  },
  {
   "attachments": {},
   "cell_type": "markdown",
   "metadata": {},
   "source": [
    "### with statement in Python (iNeuron - Imran) :\n",
    "\n",
    "- In Python, with statement is used in exception handling to make the code cleaner and much more readable. It simplifies the management of common resources like file streams. Observe the following code example on how the use of with statement makes code cleaner.\n"
   ]
  },
  {
   "cell_type": "code",
   "execution_count": null,
   "metadata": {},
   "outputs": [],
   "source": [
    "data = \"Have faith in God, and rest in His favor. Let Him be your strength, your salvation, and song\"\n",
    "f=open(\"test783.txt\",\"w\")\n",
    "f.write(data)\n",
    "print(\"Done\")\n",
    "f.close()"
   ]
  },
  {
   "attachments": {},
   "cell_type": "markdown",
   "metadata": {},
   "source": [
    "### With "
   ]
  },
  {
   "cell_type": "code",
   "execution_count": null,
   "metadata": {},
   "outputs": [],
   "source": [
    "with open(\"test784.txt\",\"w\") as quote:\n",
    "    \n",
    "    quote.write(\"Life is what happens when you're busy making other plans\\n\")\n",
    "    quote.write(\"Money and success do not change people  they merely amplify what is already there\\n\")\n"
   ]
  },
  {
   "attachments": {},
   "cell_type": "markdown",
   "metadata": {},
   "source": [
    "### Note : \n",
    "- w+ : Opens a file for both writing and reading. Overwrites the existing file if the file exists. If the file does not exist, creates a new file for reading and writing.\n",
    "\n",
    "- The ArithmeticError Exception is the base class for all errors associated with : \n",
    "  - --> ZeroDivisionError\n",
    "  - --> OverflowError\n",
    "  - --> FloatingPointError\n"
   ]
  },
  {
   "cell_type": "code",
   "execution_count": 13,
   "metadata": {},
   "outputs": [
    {
     "name": "stdout",
     "output_type": "stream",
     "text": [
      "there is some issue with my code division by zero\n"
     ]
    }
   ],
   "source": [
    "try:\n",
    "    a=int(input(\"Enter the first number\"))\n",
    "    b=int(input(\"Enter the second number\"))\n",
    "    c=a/b\n",
    "    \n",
    "except ArithmeticError as e:\n",
    "    print(\"there is some issue with my code\" , e)\n",
    "    f=open(\"iNeuronTest.txt\",\"w+\")\n",
    "    f.write(\"Hi !!!\")\n",
    "    f.write(str(e))\n",
    "    ##f.write(e)\n",
    "    f.read()\n",
    "    \n",
    "else: \n",
    "    print(\"This will execute once try is success\")\n",
    "    \n",
    "    try:\n",
    "        f=open(\"iNeuronTest01.txt\",\"w\")\n",
    "    except:\n",
    "        print(\"The code in the try block has problem\")   \n",
    "        \n",
    "        ## put 10 / 0 "
   ]
  },
  {
   "attachments": {},
   "cell_type": "markdown",
   "metadata": {},
   "source": [
    "### Question : Write program to check whether this error ( .txt ) present in the folder ????? \n",
    "\n",
    "- First check file exist or not ?\n",
    "- Second check a file size ?\n",
    "- Count numbers of line in file ?"
   ]
  },
  {
   "attachments": {},
   "cell_type": "markdown",
   "metadata": {},
   "source": [
    "### Note :\n",
    "\n",
    "- \"r\" open a file for reading \n",
    "- \"w\" Open a file for writing and creates a new file if it does not exist or tructaes the file if exist.\n",
    "- \"x\" Open a file for exclusive creation if the file already exist operation.\n",
    "- \"a\" open a file for appeanding at the endof a line .\n",
    "- \"+\" Open a file for updating (reading / writing)."
   ]
  },
  {
   "attachments": {},
   "cell_type": "markdown",
   "metadata": {},
   "source": [
    "\n",
    "## Iterables vs. Iterators vs. Generators\n",
    "\n",
    "- https://nvie.com/posts/iterators-vs-generators/\n",
    "- https://virgool.io/@hilbert.cantor/%D8%AF%D8%B1%DA%A9-iterator-generator-%D8%AF%D8%B1-%D9%BE%D8%A7%DB%8C%D8%AA%D9%88%D9%86-nubvlcsxnpma\n",
    "\n",
    "###  Containers means?\n",
    "\n",
    " - Containers are any object that holds an arbitrary number of other objects. Generally, containers provide a way to access the contained objects and to iterate over them. Examples of containers include tuple , list , set , dict ; these are the built-in containers.\n",
    " - لیست ،دیکشنری و مجموعه ساختار داده هایی هستند که به آن ها کانتینر گفته می شود. کانتینر چیزی شبیه به یک ظرف واقعی است که تمام آنچه درون آن است محدود است. \n",
    "\n",
    "\n",
    "###  Iterables means?\n",
    "\n",
    " - terable is an object which can be looped over or iterated over with the help of a for loop. \n",
    " - Objects like \"lists\", \"tuples\", \"sets\", \"dictionaries\", \"strings\", etc. are called iterables. In short and simpler terms, iterable is anything that you can loop over.\n",
    "\n",
    "\n",
    "###  Iterator means?\n",
    "\n",
    " - An iterator is an object that contains a countable number of values.\n",
    " - An iterator is an object that can be iterated upon, meaning that you can traverse through all the values.\n",
    " - Technically, in Python, an iterator is an object which implements the iterator protocol, which consist of the methods __iter__() and __next__().\n",
    "\n",
    "\n",
    " ###  Generators means?\n",
    "\n",
    " - A generator is a function that produces or yields a sequence of values using a yield statement. Classes are used to Implement the iterators. Functions are used to implement the generator.\n",
    "\n",
    "\n",
    "\n",
    " ### lIST [Iterables]-----iter()------>[ Iterators]-----next()------>\n",
    "     - \" lists\", \"tuples\", \"sets\", \"dictionaries\", \"strings\", are called iterables.\n",
    "     - objects have a iter() method which is used to get an iterator\n",
    "\n"
   ]
  },
  {
   "cell_type": "code",
   "execution_count": 1,
   "metadata": {},
   "outputs": [
    {
     "name": "stdout",
     "output_type": "stream",
     "text": [
      "apple\n",
      "banana\n",
      "cherry\n"
     ]
    }
   ],
   "source": [
    "### Return an iterator from a tuple \n",
    "\n",
    "my_tuple = (\"apple\", \"banana\", \"cherry\" )\n",
    "My_iterator = iter(my_tuple)\n",
    "\n",
    "print(next(My_iterator))\n",
    "print(next(My_iterator))\n",
    "print(next(My_iterator))"
   ]
  },
  {
   "cell_type": "code",
   "execution_count": 2,
   "metadata": {},
   "outputs": [
    {
     "name": "stdout",
     "output_type": "stream",
     "text": [
      "apple\n",
      "banana\n",
      "cherry\n"
     ]
    }
   ],
   "source": [
    "### Looping Through an Iterator (Iterate the values of a tuple)\n",
    "\n",
    "my_tuple = (\"apple\", \"banana\", \"cherry\" )\n",
    "for x in my_tuple:\n",
    "    print(x)"
   ]
  },
  {
   "attachments": {},
   "cell_type": "markdown",
   "metadata": {},
   "source": [
    "### Create an Iterator :\n",
    "\n",
    "- To create an object/class as an iterator you have to implement the methods __iter__() and __next__() to your object.\n",
    "  - The __iter__() method acts similar, you can do operations, but must always return the iterator object itself.\n",
    "  - The __next__() method also allows you to do operations, and must return the next item in the sequence.\n",
    "\n",
    "  ### Python Self : The self Parameter:\n",
    "\n",
    "  - The self parameter is a reference to the current instance of the class, and is used to access variables that belongs to the class.\n",
    "  - It does not have to be named self , you can call it whatever you like, but it has to be the first parameter of any function in the class:\n",
    "\n"
   ]
  },
  {
   "cell_type": "code",
   "execution_count": 7,
   "metadata": {},
   "outputs": [
    {
     "name": "stdout",
     "output_type": "stream",
     "text": [
      "Model is  audi a8\n",
      "color is  green\n",
      "weight is  1020\n",
      "price is  18000$\n",
      "years is  2021\n",
      "Model is  Jetta\n",
      "color is  blue\n",
      "weight is  1120\n",
      "price is  25000$\n",
      "years is  2023\n",
      "Model for audi is  audi a8\n",
      "Color for audi is  green\n",
      "weight for audi is  1020\n",
      "price for audi is  18000$\n",
      "years for audi is  2021\n",
      "Model for vw is  Jetta\n",
      "Color for vw is  blue\n",
      "weight for vw is  1120\n",
      "price for vw is  25000$\n",
      "years for vw is  2023\n"
     ]
    }
   ],
   "source": [
    "### Self Example :\n",
    "\n",
    "class car():\n",
    "    \n",
    "    def __init__(self,model,Color,weight,price,years):\n",
    "        self.model = model\n",
    "        self.Color = Color\n",
    "        self.weight = weight\n",
    "        self.price = price\n",
    "        self.years = years\n",
    "        \n",
    "    def show(self):\n",
    "        print(\"Model is \"  , self.model)\n",
    "        print(\"color is \"  , self.Color)\n",
    "        print(\"weight is \" , self.weight)\n",
    "        print(\"price is \"  , self.price)\n",
    "        print(\"years is \"  , self.years)\n",
    "        \n",
    "audi = car (\"audi a8\",\"green\",\"1020\",\"18000$\",\"2021\")    \n",
    "vw   = car (\"Jetta\",\"blue\",\"1120\",\"25000$\",\"2023\")\n",
    "\n",
    "audi.show()\n",
    "vw.show()\n",
    "\n",
    "print(\"Model for audi is \",audi.model)\n",
    "print(\"Color for audi is \",audi.Color)\n",
    "print(\"weight for audi is \",audi.weight)\n",
    "print(\"price for audi is \",audi.price)\n",
    "print(\"years for audi is \",audi.years)\n",
    "\n",
    "print(\"Model for vw is \",vw.model)\n",
    "print(\"Color for vw is \",vw.Color)\n",
    "print(\"weight for vw is \",vw.weight)\n",
    "print(\"price for vw is \",vw.price)\n",
    "print(\"years for vw is \",vw.years)\n"
   ]
  },
  {
   "attachments": {},
   "cell_type": "markdown",
   "metadata": {},
   "source": [
    "### Iterables vs. Iterators vs. Generators in Python (iNeuron - Imran)"
   ]
  },
  {
   "cell_type": "code",
   "execution_count": 11,
   "metadata": {},
   "outputs": [
    {
     "name": "stdout",
     "output_type": "stream",
     "text": [
      "Farshid\n",
      "nadia\n",
      "sara\n",
      "farshad\n"
     ]
    }
   ],
   "source": [
    "mytuple = (\"Farshid\",\"nadia\",\"sara\",\"farshad\")\n",
    "for i in mytuple:\n",
    "    print(i)"
   ]
  },
  {
   "cell_type": "code",
   "execution_count": 12,
   "metadata": {},
   "outputs": [
    {
     "data": {
      "text/plain": [
       "tuple"
      ]
     },
     "execution_count": 12,
     "metadata": {},
     "output_type": "execute_result"
    }
   ],
   "source": [
    "type(mytuple)"
   ]
  },
  {
   "cell_type": "code",
   "execution_count": 13,
   "metadata": {},
   "outputs": [
    {
     "data": {
      "text/plain": [
       "['__add__',\n",
       " '__class__',\n",
       " '__class_getitem__',\n",
       " '__contains__',\n",
       " '__delattr__',\n",
       " '__dir__',\n",
       " '__doc__',\n",
       " '__eq__',\n",
       " '__format__',\n",
       " '__ge__',\n",
       " '__getattribute__',\n",
       " '__getitem__',\n",
       " '__getnewargs__',\n",
       " '__gt__',\n",
       " '__hash__',\n",
       " '__init__',\n",
       " '__init_subclass__',\n",
       " '__iter__',\n",
       " '__le__',\n",
       " '__len__',\n",
       " '__lt__',\n",
       " '__mul__',\n",
       " '__ne__',\n",
       " '__new__',\n",
       " '__reduce__',\n",
       " '__reduce_ex__',\n",
       " '__repr__',\n",
       " '__rmul__',\n",
       " '__setattr__',\n",
       " '__sizeof__',\n",
       " '__str__',\n",
       " '__subclasshook__',\n",
       " 'count',\n",
       " 'index']"
      ]
     },
     "execution_count": 13,
     "metadata": {},
     "output_type": "execute_result"
    }
   ],
   "source": [
    "dir(mytuple)    ### Find '__iter__' in list below"
   ]
  },
  {
   "cell_type": "code",
   "execution_count": 15,
   "metadata": {},
   "outputs": [
    {
     "name": "stdout",
     "output_type": "stream",
     "text": [
      "i\n",
      "N\n",
      "e\n",
      "u\n",
      "r\n",
      "o\n",
      "n\n"
     ]
    }
   ],
   "source": [
    "mystr=\"iNeuron\"\n",
    "for i in mystr:\n",
    "    print(i)"
   ]
  },
  {
   "cell_type": "code",
   "execution_count": 17,
   "metadata": {},
   "outputs": [
    {
     "data": {
      "text/plain": [
       "['__add__',\n",
       " '__class__',\n",
       " '__contains__',\n",
       " '__delattr__',\n",
       " '__dir__',\n",
       " '__doc__',\n",
       " '__eq__',\n",
       " '__format__',\n",
       " '__ge__',\n",
       " '__getattribute__',\n",
       " '__getitem__',\n",
       " '__getnewargs__',\n",
       " '__gt__',\n",
       " '__hash__',\n",
       " '__init__',\n",
       " '__init_subclass__',\n",
       " '__iter__',\n",
       " '__le__',\n",
       " '__len__',\n",
       " '__lt__',\n",
       " '__mod__',\n",
       " '__mul__',\n",
       " '__ne__',\n",
       " '__new__',\n",
       " '__reduce__',\n",
       " '__reduce_ex__',\n",
       " '__repr__',\n",
       " '__rmod__',\n",
       " '__rmul__',\n",
       " '__setattr__',\n",
       " '__sizeof__',\n",
       " '__str__',\n",
       " '__subclasshook__',\n",
       " 'capitalize',\n",
       " 'casefold',\n",
       " 'center',\n",
       " 'count',\n",
       " 'encode',\n",
       " 'endswith',\n",
       " 'expandtabs',\n",
       " 'find',\n",
       " 'format',\n",
       " 'format_map',\n",
       " 'index',\n",
       " 'isalnum',\n",
       " 'isalpha',\n",
       " 'isascii',\n",
       " 'isdecimal',\n",
       " 'isdigit',\n",
       " 'isidentifier',\n",
       " 'islower',\n",
       " 'isnumeric',\n",
       " 'isprintable',\n",
       " 'isspace',\n",
       " 'istitle',\n",
       " 'isupper',\n",
       " 'join',\n",
       " 'ljust',\n",
       " 'lower',\n",
       " 'lstrip',\n",
       " 'maketrans',\n",
       " 'partition',\n",
       " 'removeprefix',\n",
       " 'removesuffix',\n",
       " 'replace',\n",
       " 'rfind',\n",
       " 'rindex',\n",
       " 'rjust',\n",
       " 'rpartition',\n",
       " 'rsplit',\n",
       " 'rstrip',\n",
       " 'split',\n",
       " 'splitlines',\n",
       " 'startswith',\n",
       " 'strip',\n",
       " 'swapcase',\n",
       " 'title',\n",
       " 'translate',\n",
       " 'upper',\n",
       " 'zfill']"
      ]
     },
     "execution_count": 17,
     "metadata": {},
     "output_type": "execute_result"
    }
   ],
   "source": [
    "dir(mystr)   ### Find '__iter__' in list below"
   ]
  },
  {
   "cell_type": "code",
   "execution_count": 18,
   "metadata": {},
   "outputs": [
    {
     "name": "stdout",
     "output_type": "stream",
     "text": [
      "1\n",
      "2\n",
      "3\n",
      "4\n",
      "5\n",
      "6\n"
     ]
    }
   ],
   "source": [
    "mylist=[1,2,3,4,5,6]\n",
    "for i in mylist:\n",
    "    print(i)"
   ]
  },
  {
   "cell_type": "code",
   "execution_count": 19,
   "metadata": {},
   "outputs": [
    {
     "data": {
      "text/plain": [
       "['__add__',\n",
       " '__class__',\n",
       " '__class_getitem__',\n",
       " '__contains__',\n",
       " '__delattr__',\n",
       " '__delitem__',\n",
       " '__dir__',\n",
       " '__doc__',\n",
       " '__eq__',\n",
       " '__format__',\n",
       " '__ge__',\n",
       " '__getattribute__',\n",
       " '__getitem__',\n",
       " '__gt__',\n",
       " '__hash__',\n",
       " '__iadd__',\n",
       " '__imul__',\n",
       " '__init__',\n",
       " '__init_subclass__',\n",
       " '__iter__',\n",
       " '__le__',\n",
       " '__len__',\n",
       " '__lt__',\n",
       " '__mul__',\n",
       " '__ne__',\n",
       " '__new__',\n",
       " '__reduce__',\n",
       " '__reduce_ex__',\n",
       " '__repr__',\n",
       " '__reversed__',\n",
       " '__rmul__',\n",
       " '__setattr__',\n",
       " '__setitem__',\n",
       " '__sizeof__',\n",
       " '__str__',\n",
       " '__subclasshook__',\n",
       " 'append',\n",
       " 'clear',\n",
       " 'copy',\n",
       " 'count',\n",
       " 'extend',\n",
       " 'index',\n",
       " 'insert',\n",
       " 'pop',\n",
       " 'remove',\n",
       " 'reverse',\n",
       " 'sort']"
      ]
     },
     "execution_count": 19,
     "metadata": {},
     "output_type": "execute_result"
    }
   ],
   "source": [
    "dir(mylist) ### Find '__iter__' in list below"
   ]
  },
  {
   "attachments": {},
   "cell_type": "markdown",
   "metadata": {},
   "source": [
    "### Note : Iterables are objects that  can be iterates in iterations. example : list , Tuple, Set , Dictionary\n",
    " - تکرار شونده ها اشیایی هستند که می توانند در تکرارها تکرار شوند."
   ]
  },
  {
   "cell_type": "code",
   "execution_count": 22,
   "metadata": {},
   "outputs": [
    {
     "name": "stdout",
     "output_type": "stream",
     "text": [
      "iNeuron 100\n",
      "farshid 200\n",
      "Nadia 300\n"
     ]
    }
   ],
   "source": [
    "dic={\"iNeuron\" : 100 ,\"farshid\" : 200 ,\"Nadia\" : 300}\n",
    "for k,v in dic.items():\n",
    "    print(k,v)"
   ]
  },
  {
   "cell_type": "code",
   "execution_count": 24,
   "metadata": {},
   "outputs": [
    {
     "ename": "TypeError",
     "evalue": "'int' object is not iterable",
     "output_type": "error",
     "traceback": [
      "\u001b[1;31m---------------------------------------------------------------------------\u001b[0m",
      "\u001b[1;31mTypeError\u001b[0m                                 Traceback (most recent call last)",
      "Cell \u001b[1;32mIn [24], line 2\u001b[0m\n\u001b[0;32m      1\u001b[0m x\u001b[39m=\u001b[39m\u001b[39m42\u001b[39m\n\u001b[1;32m----> 2\u001b[0m \u001b[39mfor\u001b[39;00m i \u001b[39min\u001b[39;00m x:\n\u001b[0;32m      3\u001b[0m     \u001b[39mprint\u001b[39m(i)\n",
      "\u001b[1;31mTypeError\u001b[0m: 'int' object is not iterable"
     ]
    }
   ],
   "source": [
    "x=42\n",
    "for i in x:\n",
    "    print(i)\n",
    "    \n",
    "### Hint : TypeError: 'int' object is not iterable"
   ]
  },
  {
   "cell_type": "code",
   "execution_count": 26,
   "metadata": {},
   "outputs": [
    {
     "data": {
      "text/plain": [
       "['__abs__',\n",
       " '__add__',\n",
       " '__and__',\n",
       " '__bool__',\n",
       " '__ceil__',\n",
       " '__class__',\n",
       " '__delattr__',\n",
       " '__dir__',\n",
       " '__divmod__',\n",
       " '__doc__',\n",
       " '__eq__',\n",
       " '__float__',\n",
       " '__floor__',\n",
       " '__floordiv__',\n",
       " '__format__',\n",
       " '__ge__',\n",
       " '__getattribute__',\n",
       " '__getnewargs__',\n",
       " '__gt__',\n",
       " '__hash__',\n",
       " '__index__',\n",
       " '__init__',\n",
       " '__init_subclass__',\n",
       " '__int__',\n",
       " '__invert__',\n",
       " '__le__',\n",
       " '__lshift__',\n",
       " '__lt__',\n",
       " '__mod__',\n",
       " '__mul__',\n",
       " '__ne__',\n",
       " '__neg__',\n",
       " '__new__',\n",
       " '__or__',\n",
       " '__pos__',\n",
       " '__pow__',\n",
       " '__radd__',\n",
       " '__rand__',\n",
       " '__rdivmod__',\n",
       " '__reduce__',\n",
       " '__reduce_ex__',\n",
       " '__repr__',\n",
       " '__rfloordiv__',\n",
       " '__rlshift__',\n",
       " '__rmod__',\n",
       " '__rmul__',\n",
       " '__ror__',\n",
       " '__round__',\n",
       " '__rpow__',\n",
       " '__rrshift__',\n",
       " '__rshift__',\n",
       " '__rsub__',\n",
       " '__rtruediv__',\n",
       " '__rxor__',\n",
       " '__setattr__',\n",
       " '__sizeof__',\n",
       " '__str__',\n",
       " '__sub__',\n",
       " '__subclasshook__',\n",
       " '__truediv__',\n",
       " '__trunc__',\n",
       " '__xor__',\n",
       " 'as_integer_ratio',\n",
       " 'bit_count',\n",
       " 'bit_length',\n",
       " 'conjugate',\n",
       " 'denominator',\n",
       " 'from_bytes',\n",
       " 'imag',\n",
       " 'numerator',\n",
       " 'real',\n",
       " 'to_bytes']"
      ]
     },
     "execution_count": 26,
     "metadata": {},
     "output_type": "execute_result"
    }
   ],
   "source": [
    "dir(x)   ### you can not Find '__iter__' in list below and x is not iterable.<--------------"
   ]
  },
  {
   "attachments": {},
   "cell_type": "markdown",
   "metadata": {},
   "source": [
    "#### Iterator_object in python :\n",
    "\n",
    "- An iterator is an object that contains a countable number of values. An iterator is an object that can be iterated upon, meaning that you can traverse through all the values. Technically, in Python, an iterator is an object which implements the iterator protocol, which consist of the methods :\n",
    " __iter__() and \n",
    " __next__() . \n",
    "\n",
    "- Itrables are not Itrators.\n",
    "- Itrators are also atrables\n",
    "- calling 'iter()' function on itrable gives an itrator.\n",
    "-  calling 'next()' function on itrator gives next element."
   ]
  },
  {
   "attachments": {},
   "cell_type": "markdown",
   "metadata": {},
   "source": [
    "### Example : change Itrable to Itrator objects"
   ]
  },
  {
   "cell_type": "code",
   "execution_count": 4,
   "metadata": {},
   "outputs": [],
   "source": [
    "### This is Itrable Object \n",
    "data=[\"iNeuron\",\"Code\",\"India\"]"
   ]
  },
  {
   "cell_type": "code",
   "execution_count": 5,
   "metadata": {},
   "outputs": [
    {
     "ename": "TypeError",
     "evalue": "'list' object is not an iterator",
     "output_type": "error",
     "traceback": [
      "\u001b[1;31m---------------------------------------------------------------------------\u001b[0m",
      "\u001b[1;31mTypeError\u001b[0m                                 Traceback (most recent call last)",
      "Cell \u001b[1;32mIn [5], line 2\u001b[0m\n\u001b[0;32m      1\u001b[0m \u001b[39m### change itrable to itrator object :\u001b[39;00m\n\u001b[1;32m----> 2\u001b[0m \u001b[39mnext\u001b[39m(data)\n",
      "\u001b[1;31mTypeError\u001b[0m: 'list' object is not an iterator"
     ]
    }
   ],
   "source": [
    "next(data)  ## 'list' object is not an iterator"
   ]
  },
  {
   "cell_type": "code",
   "execution_count": 8,
   "metadata": {},
   "outputs": [
    {
     "data": {
      "text/plain": [
       "<list_iterator at 0x1a5d9d3e680>"
      ]
     },
     "execution_count": 8,
     "metadata": {},
     "output_type": "execute_result"
    }
   ],
   "source": [
    "### change itrable to itrator object with  \" iter \" :\n",
    "iter(data)"
   ]
  },
  {
   "cell_type": "code",
   "execution_count": 18,
   "metadata": {},
   "outputs": [
    {
     "data": {
      "text/plain": [
       "list_iterator"
      ]
     },
     "execution_count": 18,
     "metadata": {},
     "output_type": "execute_result"
    }
   ],
   "source": [
    "### change itrable to itrator object with  \" iter \" :\n",
    "x=iter(data)\n",
    "type(x)           ## list_iterator "
   ]
  },
  {
   "cell_type": "code",
   "execution_count": 19,
   "metadata": {},
   "outputs": [
    {
     "data": {
      "text/plain": [
       "'iNeuron'"
      ]
     },
     "execution_count": 19,
     "metadata": {},
     "output_type": "execute_result"
    }
   ],
   "source": [
    "next(x)"
   ]
  },
  {
   "attachments": {},
   "cell_type": "markdown",
   "metadata": {},
   "source": [
    "### Example : "
   ]
  },
  {
   "cell_type": "code",
   "execution_count": 32,
   "metadata": {},
   "outputs": [],
   "source": [
    "m=\"ineuron\""
   ]
  },
  {
   "cell_type": "code",
   "execution_count": 33,
   "metadata": {},
   "outputs": [
    {
     "ename": "TypeError",
     "evalue": "'str' object is not an iterator",
     "output_type": "error",
     "traceback": [
      "\u001b[1;31m---------------------------------------------------------------------------\u001b[0m",
      "\u001b[1;31mTypeError\u001b[0m                                 Traceback (most recent call last)",
      "Cell \u001b[1;32mIn [33], line 1\u001b[0m\n\u001b[1;32m----> 1\u001b[0m \u001b[39mnext\u001b[39m(m)\n",
      "\u001b[1;31mTypeError\u001b[0m: 'str' object is not an iterator"
     ]
    }
   ],
   "source": [
    "next(m)"
   ]
  },
  {
   "cell_type": "code",
   "execution_count": 35,
   "metadata": {},
   "outputs": [],
   "source": [
    "c=iter(m)\n"
   ]
  },
  {
   "cell_type": "code",
   "execution_count": 37,
   "metadata": {},
   "outputs": [
    {
     "data": {
      "text/plain": [
       "['__class__',\n",
       " '__delattr__',\n",
       " '__dir__',\n",
       " '__doc__',\n",
       " '__eq__',\n",
       " '__format__',\n",
       " '__ge__',\n",
       " '__getattribute__',\n",
       " '__gt__',\n",
       " '__hash__',\n",
       " '__init__',\n",
       " '__init_subclass__',\n",
       " '__iter__',\n",
       " '__le__',\n",
       " '__length_hint__',\n",
       " '__lt__',\n",
       " '__ne__',\n",
       " '__new__',\n",
       " '__next__',\n",
       " '__reduce__',\n",
       " '__reduce_ex__',\n",
       " '__repr__',\n",
       " '__setattr__',\n",
       " '__setstate__',\n",
       " '__sizeof__',\n",
       " '__str__',\n",
       " '__subclasshook__']"
      ]
     },
     "execution_count": 37,
     "metadata": {},
     "output_type": "execute_result"
    }
   ],
   "source": [
    "dir(c)  ##look at 'iter' and 'next' in list below    ## Itrator is positioning of data"
   ]
  },
  {
   "cell_type": "code",
   "execution_count": 38,
   "metadata": {},
   "outputs": [
    {
     "data": {
      "text/plain": [
       "'i'"
      ]
     },
     "execution_count": 38,
     "metadata": {},
     "output_type": "execute_result"
    }
   ],
   "source": [
    "next(c)"
   ]
  },
  {
   "attachments": {},
   "cell_type": "markdown",
   "metadata": {},
   "source": [
    "### Formula :\n",
    "### Itrables ----'iter'------> Itrators----'next'------\n",
    "### What is 'iter' Method :\n",
    " - python iter() method returns the iterator object\n",
    " - تابع( نکست) یکی از توابع درونیدر پایتون است که بر روی تکرارپذیرها (اتریتور) کاربرد دارد. ورودی آن یک تکرارپذیر و خروجی آن یک آیتم درون تکرارپذیر است و به همین روند، میتوان با فراخوانی (نکست )یکی یکی آیتم ها را نشان داد."
   ]
  },
  {
   "attachments": {},
   "cell_type": "markdown",
   "metadata": {},
   "source": [
    "### Example : "
   ]
  },
  {
   "cell_type": "code",
   "execution_count": 58,
   "metadata": {},
   "outputs": [],
   "source": [
    "l=[1,2,3,4,5,6,7,8,9]"
   ]
  },
  {
   "cell_type": "code",
   "execution_count": 43,
   "metadata": {},
   "outputs": [
    {
     "ename": "TypeError",
     "evalue": "'list' object is not an iterator",
     "output_type": "error",
     "traceback": [
      "\u001b[1;31m---------------------------------------------------------------------------\u001b[0m",
      "\u001b[1;31mTypeError\u001b[0m                                 Traceback (most recent call last)",
      "Cell \u001b[1;32mIn [43], line 1\u001b[0m\n\u001b[1;32m----> 1\u001b[0m \u001b[39mnext\u001b[39m(l)\n",
      "\u001b[1;31mTypeError\u001b[0m: 'list' object is not an iterator"
     ]
    }
   ],
   "source": [
    "next(l)"
   ]
  },
  {
   "cell_type": "code",
   "execution_count": 60,
   "metadata": {},
   "outputs": [],
   "source": [
    "k=iter(l)"
   ]
  },
  {
   "cell_type": "code",
   "execution_count": 61,
   "metadata": {},
   "outputs": [
    {
     "name": "stdout",
     "output_type": "stream",
     "text": [
      "1\n",
      "2\n",
      "3\n",
      "4\n",
      "5\n",
      "6\n",
      "7\n",
      "8\n",
      "9\n"
     ]
    }
   ],
   "source": [
    "for i in k:\n",
    "    print(i)    ## Its 'iterator' objects"
   ]
  },
  {
   "cell_type": "code",
   "execution_count": 45,
   "metadata": {},
   "outputs": [
    {
     "data": {
      "text/plain": [
       "list_iterator"
      ]
     },
     "execution_count": 45,
     "metadata": {},
     "output_type": "execute_result"
    }
   ],
   "source": [
    "type(k)"
   ]
  },
  {
   "attachments": {},
   "cell_type": "markdown",
   "metadata": {},
   "source": [
    "### Python generator :\n",
    "- Python provides a generator to create your own iterator function. A generator is a special type of function which does not return a single value, instead, it returns an iterator object with a sequence of values. In a generator function, a yield statement is used rather than a return statement.\n",
    "\n",
    "- Generator is other way of creating itrators \n",
    "\n",
    "- جنریتور (مولد) تابعی است که می تواند متوقف شود و سپس به حالت عادی بازگردد. این تابع یک شیء از مقادیر قابل پیمایش بر می گرداند. به عبارت دیگر می توان گفت که جنریتور ، یک نوع قابل شمارش ، همانند لیست ها است که مجموعه ای از مقادیر قابل شمارش را در اختیار ما می گذارد. \n",
    "- برای ایجاد یک جنریتور کافیست که یک تابع عادی تعریف کرده و فقط به جای دستور (ریترن) از دستور  (ییلد) استفاده کنید\n",
    "- یکی از تفاوت های یک تابع عادی با یک جنریتور این است که تابع عادی فقط می تواند دارای یک دستور  (ریترن)  باشد و در نتیجه یک مقدار را بیشتر نمی تواند برگشت دهد ولی یک جنریتور می تواند دارای چند دستور (ییلد ) و در نتیجه چند خروجی باشد.\n",
    "\n",
    "-  تفاوت دیگر جنریتور با یک تابع عادی این است که وقتی ما یک تابع عادی را صدا می زنیم، کدها از ابتدا تا انتها اجرا می شوند ولی جنریتور حالت قبلی خود را ذخیره و در فراخوانی های بعدی از آن حالت به بعد را اجرا می کند.\n",
    "\n"
   ]
  },
  {
   "cell_type": "code",
   "execution_count": 65,
   "metadata": {},
   "outputs": [],
   "source": [
    "def square(n):\n",
    "    for i in range(n):\n",
    "        return i**2"
   ]
  },
  {
   "cell_type": "code",
   "execution_count": 66,
   "metadata": {},
   "outputs": [
    {
     "data": {
      "text/plain": [
       "0"
      ]
     },
     "execution_count": 66,
     "metadata": {},
     "output_type": "execute_result"
    }
   ],
   "source": [
    "square(3)  ### queation is 0"
   ]
  },
  {
   "cell_type": "code",
   "execution_count": 67,
   "metadata": {},
   "outputs": [],
   "source": [
    "def square(n):\n",
    "    for i in range(n):\n",
    "        yield i**2              ###-----> insted of return add \"yield\" and change to generator object"
   ]
  },
  {
   "cell_type": "code",
   "execution_count": 68,
   "metadata": {},
   "outputs": [
    {
     "data": {
      "text/plain": [
       "<generator object square at 0x000001A5DA6A2B90>"
      ]
     },
     "execution_count": 68,
     "metadata": {},
     "output_type": "execute_result"
    }
   ],
   "source": [
    "square(3)"
   ]
  },
  {
   "cell_type": "code",
   "execution_count": 69,
   "metadata": {},
   "outputs": [],
   "source": [
    "k=square(3)"
   ]
  },
  {
   "cell_type": "code",
   "execution_count": 71,
   "metadata": {},
   "outputs": [
    {
     "data": {
      "text/plain": [
       "generator"
      ]
     },
     "execution_count": 71,
     "metadata": {},
     "output_type": "execute_result"
    }
   ],
   "source": [
    "type(k)"
   ]
  },
  {
   "cell_type": "code",
   "execution_count": 70,
   "metadata": {},
   "outputs": [
    {
     "name": "stdout",
     "output_type": "stream",
     "text": [
      "0\n",
      "1\n",
      "4\n"
     ]
    }
   ],
   "source": [
    "for i in k:\n",
    "    print(i) "
   ]
  },
  {
   "attachments": {},
   "cell_type": "markdown",
   "metadata": {},
   "source": [
    "### Example : Create generator"
   ]
  },
  {
   "cell_type": "code",
   "execution_count": 1,
   "metadata": {},
   "outputs": [
    {
     "name": "stdout",
     "output_type": "stream",
     "text": [
      "<generator object counter at 0x0000021EAF79FAC0>\n"
     ]
    }
   ],
   "source": [
    "def counter():\n",
    "    i = 1 \n",
    "    while (i <= 10):\n",
    "        yield i \n",
    "        i += 1\n",
    "print(counter())        "
   ]
  },
  {
   "cell_type": "code",
   "execution_count": 15,
   "metadata": {},
   "outputs": [
    {
     "name": "stdout",
     "output_type": "stream",
     "text": [
      "1\n",
      "2\n",
      "3\n",
      "4\n"
     ]
    }
   ],
   "source": [
    "def counter():\n",
    "    i = 1\n",
    "    while (i <= 4):\n",
    "        yield i\n",
    "        i += 1\n",
    "for i in counter():\n",
    "    print(i)"
   ]
  },
  {
   "attachments": {},
   "cell_type": "markdown",
   "metadata": {},
   "source": [
    "### Note : \n",
    "- همانطور که گفته شد، جنریتور ها یک شیء قابل پیمایش بر می گردانند، در نتیجه می توان با استفاده از تابع (نکست ) به تک تک آیتم های این شیء دسترسی پیدا کرد. "
   ]
  },
  {
   "cell_type": "code",
   "execution_count": 18,
   "metadata": {},
   "outputs": [
    {
     "name": "stdout",
     "output_type": "stream",
     "text": [
      "6\n",
      "7\n"
     ]
    }
   ],
   "source": [
    "def my_generator(number):\n",
    "    \n",
    "    yield number\n",
    "    yield number + 1\n",
    "    \n",
    "generator = my_generator(6)\n",
    "\n",
    "print(next(generator))\n",
    "print(next(generator))\n"
   ]
  },
  {
   "attachments": {},
   "cell_type": "markdown",
   "metadata": {},
   "source": [
    "### Example : Create generator"
   ]
  },
  {
   "cell_type": "code",
   "execution_count": 75,
   "metadata": {},
   "outputs": [],
   "source": [
    "def new():\n",
    "    n=1\n",
    "    print(\"line one\")\n",
    "    yield n\n",
    "    \n",
    "    \n",
    "    n=n+1\n",
    "    print(\"Second one\")\n",
    "    yield n\n",
    "    \n",
    "    \n",
    "    n=n+1\n",
    "    print(\"third one\")\n",
    "    yield n\n"
   ]
  },
  {
   "cell_type": "code",
   "execution_count": 76,
   "metadata": {},
   "outputs": [
    {
     "name": "stdout",
     "output_type": "stream",
     "text": [
      "line one\n",
      "1\n",
      "Second one\n",
      "2\n",
      "third one\n",
      "3\n"
     ]
    }
   ],
   "source": [
    "for i in new():\n",
    "    print(i)"
   ]
  },
  {
   "attachments": {},
   "cell_type": "markdown",
   "metadata": {},
   "source": [
    "### Example : "
   ]
  },
  {
   "cell_type": "code",
   "execution_count": 86,
   "metadata": {},
   "outputs": [],
   "source": [
    "def gencube(n):\n",
    "    l=[]\n",
    "    for i in range(n):\n",
    "        l.append(i**3)\n",
    "    return l"
   ]
  },
  {
   "cell_type": "code",
   "execution_count": 87,
   "metadata": {},
   "outputs": [
    {
     "data": {
      "text/plain": [
       "[0, 1, 8, 27, 64, 125, 216, 343, 512, 729]"
      ]
     },
     "execution_count": 87,
     "metadata": {},
     "output_type": "execute_result"
    }
   ],
   "source": [
    "gencube(10)"
   ]
  },
  {
   "cell_type": "code",
   "execution_count": 22,
   "metadata": {},
   "outputs": [],
   "source": [
    "def gencube(n):\n",
    "    \n",
    "    for i in range(n):\n",
    "        yield i**3  "
   ]
  },
  {
   "cell_type": "code",
   "execution_count": 23,
   "metadata": {},
   "outputs": [
    {
     "data": {
      "text/plain": [
       "<generator object gencube at 0x0000021EB0B3D890>"
      ]
     },
     "execution_count": 23,
     "metadata": {},
     "output_type": "execute_result"
    }
   ],
   "source": [
    "gencube(10)"
   ]
  },
  {
   "cell_type": "code",
   "execution_count": 24,
   "metadata": {},
   "outputs": [],
   "source": [
    "k=gencube(10)"
   ]
  },
  {
   "cell_type": "code",
   "execution_count": 25,
   "metadata": {},
   "outputs": [
    {
     "data": {
      "text/plain": [
       "0"
      ]
     },
     "execution_count": 25,
     "metadata": {},
     "output_type": "execute_result"
    }
   ],
   "source": [
    "next(k)"
   ]
  },
  {
   "cell_type": "code",
   "execution_count": 26,
   "metadata": {},
   "outputs": [
    {
     "name": "stdout",
     "output_type": "stream",
     "text": [
      "1\n",
      "8\n",
      "27\n",
      "64\n",
      "125\n",
      "216\n",
      "343\n",
      "512\n",
      "729\n"
     ]
    }
   ],
   "source": [
    "for i in k:\n",
    "    print(i)"
   ]
  },
  {
   "attachments": {},
   "cell_type": "markdown",
   "metadata": {},
   "source": [
    "### Example : "
   ]
  },
  {
   "cell_type": "code",
   "execution_count": 41,
   "metadata": {},
   "outputs": [],
   "source": [
    "nums=[1,2,3]"
   ]
  },
  {
   "cell_type": "code",
   "execution_count": 43,
   "metadata": {},
   "outputs": [],
   "source": [
    "i_nums=iter(nums)"
   ]
  },
  {
   "cell_type": "code",
   "execution_count": 38,
   "metadata": {},
   "outputs": [
    {
     "name": "stdout",
     "output_type": "stream",
     "text": [
      "1\n",
      "2\n",
      "3\n"
     ]
    }
   ],
   "source": [
    "for i in i_nums:\n",
    "    print(i)"
   ]
  },
  {
   "cell_type": "code",
   "execution_count": 44,
   "metadata": {},
   "outputs": [
    {
     "name": "stdout",
     "output_type": "stream",
     "text": [
      "1\n",
      "2\n",
      "3\n"
     ]
    }
   ],
   "source": [
    "while True:\n",
    "    try:\n",
    "        item=next(i_nums)\n",
    "        print(item)\n",
    "    except StopIteration:\n",
    "        break"
   ]
  },
  {
   "attachments": {},
   "cell_type": "markdown",
   "metadata": {},
   "source": [
    "### New course on 10 december 2022 (iMran)\n",
    "\n",
    "- Development\n",
    "- Dbugging\n",
    "- Review\n",
    "- Testing\n",
    " -Production\n"
   ]
  },
  {
   "cell_type": "code",
   "execution_count": 46,
   "metadata": {},
   "outputs": [
    {
     "name": "stdout",
     "output_type": "stream",
     "text": [
      "30\n",
      "-10\n",
      "200\n",
      "-10\n"
     ]
    }
   ],
   "source": [
    "def add(x,y):\n",
    "    return x+y\n",
    "\n",
    "def subtract(x,y):\n",
    "    return x-y\n",
    "\n",
    "def multiply(x,y):\n",
    "    return x*y\n",
    "\n",
    "def divide(x,y):\n",
    "    return x-y\n",
    "\n",
    "num_1=10\n",
    "num_2=20\n",
    "\n",
    "add_result=add(num_1,num_2)\n",
    "print(add_result)\n",
    "subtract_result=subtract(num_1,num_2)\n",
    "print(subtract_result)\n",
    "multiply_result=multiply(num_1,num_2)\n",
    "print(multiply_result)\n",
    "divide_result=divide(num_1,num_2)\n",
    "print(divide_result)\n"
   ]
  },
  {
   "attachments": {},
   "cell_type": "markdown",
   "metadata": {},
   "source": [
    "### What is logging ? Is modual which help us to track and record the log information.\n",
    "### What is log ? log critical part of system documentation about runtime status of application .\n",
    "\n",
    " - Adding logging to your Python program is as easy as this:\n",
    "    - import logging\n",
    "    - ماژول لاگینگ داخل کتابخانه های استاندار پایتون وجود داره و نیازی به نصبش نیست. فقط کافیه ایمپورت کنید\n",
    "\n",
    "#### With the logging module imported, you can use something called a “logger” to log messages that you want to see. By default, there are 5 standard levels indicating the severity of events. Each has a corresponding method that can be used to log events at that level of severity. The defined levels, in order of increasing severity, are the following:\n",
    "\n",
    "- CRITICAL = 50\n",
    "- ERROR = 40\n",
    "- WARNING = 30\n",
    "- INFO = 20  - اطلاعات عمومی سیستم و رخدادهای طبیعی مثل ورود یک شخص به صفحه مورد نظر و یا اینکه سرویس اجرا شده بر روی چه پورتی قرار گرفته و یا هر اطلاعاتی که نقش یاد آوری و نشان دادن عملکرد کلی سیستم ...\n",
    "- DEBUG = 10 - اطلاعات سطح پایین سیستم برای اهداف اشکال زدایی که در واقع می توان از آن برای دنبال کردن تغییرات متغییرها و یا اعمالی که با خروجی های تست در برنامه نویسی درگیر هستند استفاده کرد \n",
    "\n",
    "\n",
    "- The logging module provides you with a default logger that allows you to get started without needing to do much configuration.\n",
    "\n",
    "### The basicConfig configures:\n",
    "-  The basicConfig configures the root logger. It does basic configuration for the logging system by creating a stream handler with a default formatter. The debug, info, warning, error and critical call basicConfig automatically if no handlers are defined for the root logger.\n",
    "\n",
    "                                    - logging.basicConfig (    filename='test.log'  ,   format='%(filename)s: %(message)s',    level=logging.DEBUG    )\n",
    "\n",
    "- https://docs.python.org/3/library/logging.html\n",
    "\n",
    "\n",
    "                    "
   ]
  },
  {
   "attachments": {},
   "cell_type": "markdown",
   "metadata": {},
   "source": [
    "### Example : Logging "
   ]
  },
  {
   "cell_type": "code",
   "execution_count": 5,
   "metadata": {},
   "outputs": [
    {
     "name": "stderr",
     "output_type": "stream",
     "text": [
      "DEBUG:root:This is a debug message\n",
      "INFO:root:This is an info message\n",
      "WARNING:root:This is a warning message\n",
      "ERROR:root:This is an error message\n",
      "CRITICAL:root:This is a critical message\n"
     ]
    }
   ],
   "source": [
    "import logging\n",
    "\n",
    "logging.debug('This is a debug message')\n",
    "logging.info('This is an info message')\n",
    "logging.warning('This is a warning message')\n",
    "logging.error('This is an error message')\n",
    "logging.critical('This is a critical message')"
   ]
  },
  {
   "attachments": {},
   "cell_type": "markdown",
   "metadata": {},
   "source": [
    "### Example : Logging "
   ]
  },
  {
   "cell_type": "code",
   "execution_count": 1,
   "metadata": {},
   "outputs": [
    {
     "name": "stderr",
     "output_type": "stream",
     "text": [
      "DEBUG:root:30\n",
      "INFO:root:-10\n",
      "WARNING:root:200\n",
      "CRITICAL:root:-10\n"
     ]
    }
   ],
   "source": [
    "### Run code in python envirment for see all DEBUG result below :\n",
    "### DEBUG:root:30\n",
    "### DEBUG:root:-10\n",
    "### DEBUG:root:200\n",
    "### DEBUG:root:-10\n",
    "\n",
    "\n",
    "import logging\n",
    "\n",
    "logging.basicConfig(level=logging.DEBUG)  \n",
    "\n",
    "def add(x,y):\n",
    "    return x+y\n",
    "\n",
    "def subtract(x,y):\n",
    "    return x-y\n",
    "\n",
    "def multiply(x,y):\n",
    "    return x*y\n",
    "\n",
    "def divide(x,y):\n",
    "    return x-y\n",
    "\n",
    "num_1=10\n",
    "num_2=20\n",
    "\n",
    "add_result=add(num_1,num_2)\n",
    "logging.debug(add_result)\n",
    "subtract_result=subtract(num_1,num_2)\n",
    "logging.info(subtract_result)\n",
    "multiply_result=multiply(num_1,num_2)\n",
    "logging.warning(multiply_result)\n",
    "divide_result=divide(num_1,num_2)\n",
    "logging.critical(divide_result)"
   ]
  },
  {
   "attachments": {},
   "cell_type": "markdown",
   "metadata": {},
   "source": [
    "### Example : Write a program for check a name (imran) : \n"
   ]
  },
  {
   "cell_type": "code",
   "execution_count": 24,
   "metadata": {},
   "outputs": [],
   "source": [
    "def namecheck(name):\n",
    "    if len(name) < 2 :\n",
    "        print(\"Checking for name length\")\n",
    "        return 'Invalid name'\n",
    "    elif name.isspace():\n",
    "        print(\"cheking for name has Space\")\n",
    "        return 'Invalid name'\n",
    "    elif name.isalpha() :\n",
    "        print(\"cheking for name is alphabet\")\n",
    "        return 'valid name'\n",
    "    elif name.replace(' ','').isalpha() :\n",
    "        print(\"Checking for full name\")\n",
    "        return 'name is valid'\n",
    "    \n",
    "    else:\n",
    "        print(\"falied all checks\")\n",
    "        return 'Invalid name'"
   ]
  },
  {
   "cell_type": "code",
   "execution_count": 30,
   "metadata": {},
   "outputs": [
    {
     "name": "stdout",
     "output_type": "stream",
     "text": [
      "cheking for name is alphabet\n",
      "valid name\n"
     ]
    }
   ],
   "source": [
    "print(namecheck('farshid'))"
   ]
  },
  {
   "cell_type": "code",
   "execution_count": 29,
   "metadata": {},
   "outputs": [
    {
     "name": "stdout",
     "output_type": "stream",
     "text": [
      "Checking for fullname\n",
      "name is valid\n"
     ]
    }
   ],
   "source": [
    "print(namecheck('farshid Hesami'))"
   ]
  },
  {
   "cell_type": "code",
   "execution_count": 28,
   "metadata": {},
   "outputs": [
    {
     "name": "stdout",
     "output_type": "stream",
     "text": [
      "faild all checks\n",
      "Invalid name\n"
     ]
    }
   ],
   "source": [
    "print(namecheck('farshid123'))"
   ]
  },
  {
   "attachments": {},
   "cell_type": "markdown",
   "metadata": {},
   "source": [
    "### Change example to logging format :\n",
    "- Run program in Python environment (ineuron LABS)\n",
    "- https://docs.python.org/3/library/logging.html\n",
    "\n",
    "- %(asctime)s :   Human-readable time when the LogRecord was created. By default this is of the form ‘2003-07-08 16:49:45,896’ (the numbers after the comma are millisecond portion of the time).\n",
    "- %(levelname)s : Text logging level for the message ('DEBUG', 'INFO', 'WARNING', 'ERROR', 'CRITICAL').\n",
    "- %(message)s   : The logged message, computed as msg % args. This is set when Formatter.format() is invoked."
   ]
  },
  {
   "cell_type": "code",
   "execution_count": 41,
   "metadata": {},
   "outputs": [],
   "source": [
    "import logging\n",
    "logging.basicConfig(filename='demo.log' , level=logging.DEBUG , format='%(asctime)s - %(levelname)s - %(message)s')    \n",
    "\n",
    "### insted of \" print\" we need to add \"logging.debug\"\n",
    "def namecheck(name):\n",
    "    if len(name) < 2 :\n",
    "        logging.debug(\"Checking for name length\")\n",
    "        return 'Invalid name'\n",
    "    elif name.isspace():\n",
    "        logging.debug(\"cheking for name has Space\")\n",
    "        return 'Invalid name'\n",
    "    elif name.isalpha() :\n",
    "        logging.debug(\"cheking for name is alphabet\")\n",
    "        return 'valid name'\n",
    "    elif name.replace(' ','').isalpha() :\n",
    "        logging.debug(\"Checking for full name\")\n",
    "        return 'name is valid'\n",
    "    \n",
    "    else:\n",
    "        logging.debug(\"falied all checks\")\n",
    "        return 'Invalid name'"
   ]
  },
  {
   "cell_type": "code",
   "execution_count": 40,
   "metadata": {},
   "outputs": [
    {
     "name": "stderr",
     "output_type": "stream",
     "text": [
      "DEBUG:root:cheking for name is alphabet\n"
     ]
    },
    {
     "name": "stdout",
     "output_type": "stream",
     "text": [
      "valid name\n"
     ]
    }
   ],
   "source": [
    "print(namecheck('farshid'))"
   ]
  },
  {
   "cell_type": "code",
   "execution_count": 37,
   "metadata": {},
   "outputs": [
    {
     "name": "stderr",
     "output_type": "stream",
     "text": [
      "DEBUG:root:Checking for full name\n"
     ]
    },
    {
     "name": "stdout",
     "output_type": "stream",
     "text": [
      "name is valid\n"
     ]
    }
   ],
   "source": [
    "print(namecheck('farshid Hesami'))"
   ]
  },
  {
   "cell_type": "code",
   "execution_count": 38,
   "metadata": {},
   "outputs": [
    {
     "name": "stderr",
     "output_type": "stream",
     "text": [
      "DEBUG:root:falied all checks\n"
     ]
    },
    {
     "name": "stdout",
     "output_type": "stream",
     "text": [
      "Invalid name\n"
     ]
    }
   ],
   "source": [
    "print(namecheck('farshid123'))"
   ]
  },
  {
   "attachments": {},
   "cell_type": "markdown",
   "metadata": {},
   "source": [
    "### Example (imran): Run code in python not jupyter\n",
    " \n",
    "- Creat logger in your code .\n",
    "- creat one function which can take any number of inputs as an arguements and will return SUM.\n",
    "- capture user input in log file \n",
    "- Read and log file code and show it a console   \n"
   ]
  },
  {
   "cell_type": "code",
   "execution_count": 44,
   "metadata": {},
   "outputs": [
    {
     "ename": "FileNotFoundError",
     "evalue": "[Errno 2] No such file or directory: 'test666.log'",
     "output_type": "error",
     "traceback": [
      "\u001b[1;31m---------------------------------------------------------------------------\u001b[0m",
      "\u001b[1;31mFileNotFoundError\u001b[0m                         Traceback (most recent call last)",
      "Cell \u001b[1;32mIn [44], line 13\u001b[0m\n\u001b[0;32m     10\u001b[0m         sum1\u001b[39m=\u001b[39msum1\u001b[39m+\u001b[39mi\n\u001b[0;32m     11\u001b[0m     \u001b[39mreturn\u001b[39;00m sum1\n\u001b[1;32m---> 13\u001b[0m f\u001b[39m=\u001b[39m(\u001b[39mopen\u001b[39m(\u001b[39m\"\u001b[39m\u001b[39mtest666.log\u001b[39m\u001b[39m\"\u001b[39m,\u001b[39m\"\u001b[39m\u001b[39mr\u001b[39m\u001b[39m\"\u001b[39m))\n\u001b[0;32m     14\u001b[0m \u001b[39mprint\u001b[39m(f\u001b[39m.\u001b[39mread())\n\u001b[0;32m     17\u001b[0m addition(\u001b[39m1\u001b[39m,\u001b[39m2\u001b[39m,\u001b[39m3\u001b[39m,\u001b[39m4\u001b[39m)\n",
      "\u001b[1;31mFileNotFoundError\u001b[0m: [Errno 2] No such file or directory: 'test666.log'"
     ]
    }
   ],
   "source": [
    "import logging as lg\n",
    "\n",
    "lg.basicConfig(filename='test666.log' , level=lg.INFO)\n",
    "\n",
    "def addition(*args):\n",
    "    lg.info(\"This is my addition function\") \n",
    "    sum1=0\n",
    "    for i in args:\n",
    "        lg.info(str(i))\n",
    "        sum1=sum1+i\n",
    "    return sum1\n",
    "\n",
    "f=(open(\"test666.log\",\"r\"))\n",
    "print(f.read())\n",
    "\n",
    "\n",
    "addition(1,2,3,4)\n"
   ]
  },
  {
   "attachments": {},
   "cell_type": "markdown",
   "metadata": {},
   "source": [
    "### Note  : Run code in Python <------------"
   ]
  },
  {
   "cell_type": "code",
   "execution_count": 45,
   "metadata": {},
   "outputs": [],
   "source": [
    "def addition(*args):\n",
    "    lg.info(\"This is my addition function\") \n",
    "    sum1=0\n",
    "    for i in args:\n",
    "        lg.info(str(i))\n",
    "        sum1=sum1+i\n",
    "    return sum1"
   ]
  },
  {
   "cell_type": "code",
   "execution_count": 47,
   "metadata": {},
   "outputs": [
    {
     "name": "stderr",
     "output_type": "stream",
     "text": [
      "INFO:root:This is my addition function\n",
      "INFO:root:155\n",
      "INFO:root:2564354356\n",
      "INFO:root:35465\n",
      "INFO:root:4\n"
     ]
    },
    {
     "data": {
      "text/plain": [
       "2564389980"
      ]
     },
     "execution_count": 47,
     "metadata": {},
     "output_type": "execute_result"
    }
   ],
   "source": [
    "addition(155,2564354356,35465,4)"
   ]
  },
  {
   "attachments": {},
   "cell_type": "markdown",
   "metadata": {},
   "source": [
    "### Review Lambda and Filter and Map and Reduce Function in Python :"
   ]
  },
  {
   "attachments": {},
   "cell_type": "markdown",
   "metadata": {},
   "source": [
    "### Lambda Function:\n",
    "- Syntax : lambda arguments : expression"
   ]
  },
  {
   "cell_type": "code",
   "execution_count": null,
   "metadata": {},
   "outputs": [
    {
     "data": {
      "text/plain": [
       "10"
      ]
     },
     "metadata": {},
     "output_type": "display_data"
    }
   ],
   "source": [
    "def my_func(*args):\n",
    "    return sum(args)\n",
    "\n",
    "\n",
    "my_func(1,2,3,4)"
   ]
  },
  {
   "cell_type": "code",
   "execution_count": null,
   "metadata": {},
   "outputs": [
    {
     "data": {
      "text/plain": [
       "50"
      ]
     },
     "metadata": {},
     "output_type": "display_data"
    }
   ],
   "source": [
    "def add(x,y):\n",
    "    return x + y\n",
    "add(20,30)"
   ]
  },
  {
   "cell_type": "code",
   "execution_count": null,
   "metadata": {},
   "outputs": [
    {
     "name": "stdout",
     "output_type": "stream",
     "text": [
      "50\n"
     ]
    },
    {
     "data": {
      "text/plain": [
       "function"
      ]
     },
     "metadata": {},
     "output_type": "display_data"
    }
   ],
   "source": [
    "add = lambda x,y : x+y\n",
    "print(add(20,30))\n",
    "type(add)"
   ]
  },
  {
   "cell_type": "code",
   "execution_count": null,
   "metadata": {},
   "outputs": [
    {
     "data": {
      "text/plain": [
       "10"
      ]
     },
     "metadata": {},
     "output_type": "display_data"
    }
   ],
   "source": [
    "def my_func(*args):\n",
    "    return reduce ((lambda x,y : x+y) , args  )\n",
    "\n",
    "my_func(1,2,3,4)"
   ]
  },
  {
   "attachments": {},
   "cell_type": "markdown",
   "metadata": {},
   "source": [
    "## Map in Lambda function : \n",
    "- map(function, iterable1, iterable2,...)\n",
    "\n",
    "- \tتابع مپ یک تابع به عنوان یک پارامتر را در کنار آرایه‌های هر ترکیب است. این ایده برای اعمال یک تابع (به عنوان یک آرگومان) به هر یک از آرایه‌ها است. این کار به دو دلیل کاربردی است  یک  نیازی نیست یک حلقه بنویسید سریع‌تر از یک حلقه است."
   ]
  },
  {
   "cell_type": "code",
   "execution_count": null,
   "metadata": {},
   "outputs": [
    {
     "name": "stdout",
     "output_type": "stream",
     "text": [
      "<map object at 0x0000024A8C8EADF0>\n",
      "[5, 6, 6]\n"
     ]
    }
   ],
   "source": [
    "def myfunc(a):\n",
    "      return len(a)\n",
    "\n",
    "x = map(myfunc, ('apple', 'banana', 'cherry'))\n",
    "\n",
    "print(x)\n",
    "\n",
    "#convert the map into a list, for readability:\n",
    "print(list(x))\n",
    "\n"
   ]
  },
  {
   "cell_type": "code",
   "execution_count": null,
   "metadata": {},
   "outputs": [
    {
     "name": "stdout",
     "output_type": "stream",
     "text": [
      "['appleOrange', 'Bananalemon', 'cherryPineapple']\n"
     ]
    }
   ],
   "source": [
    "def my_func(a,b):\n",
    "    return a+b\n",
    "x = map(my_func,(\"apple\",\"Banana\",\"cherry\"),(\"Orange\",\"lemon\",\"Pineapple\"))\n",
    "\n",
    "print(list(x))"
   ]
  },
  {
   "cell_type": "code",
   "execution_count": null,
   "metadata": {},
   "outputs": [
    {
     "name": "stdout",
     "output_type": "stream",
     "text": [
      "[1, 4, 9, 16, 25, 36]\n",
      "[3, 6, 9, 12, 15, 18]\n",
      "['Farshid', 'nadia']\n",
      "['43', '51']\n"
     ]
    }
   ],
   "source": [
    "x = list(map(lambda a : a**2 , [1,2,3,4,5,6]))\n",
    "y = list(map(lambda a,b :a+b , [1,2,3,4,5,6] , [2,4,6,8,10,12] ))\n",
    "\n",
    "lst = [{\"name\" : 'Farshid' , \"age\" : '43'} ,{\"name\" : 'nadia' ,\"age\" : '51'}]\n",
    "z =  list(map(lambda a : a[\"name\"] , lst))\n",
    "h =  list(map(lambda a : a[\"age\"] , lst))\n",
    "\n",
    "print(x)\n",
    "print(y)\n",
    "print(z)\n",
    "print(h)"
   ]
  },
  {
   "attachments": {},
   "cell_type": "markdown",
   "metadata": {},
   "source": [
    "## Filter in Lambda function : \n",
    "- filter(function, iterable)\n",
    "- •\tتابع فیلتر  یک تابع عملگر دیگر است که زمان شما را در نوشتن و در اجرای کدها کوتاه‌تر می‌کند. همان‌طور که این نام نشان می‌دهد, این ایده برای نگهداری مجموعه‌ای از اعداد است که شرایط خاصی را دارند. درست مانند مپ می‌توانیم تابع را از قبل اعلام کنیم, و سپس آن را به   فیلتر در کنار لیست حذف کنیم"
   ]
  },
  {
   "cell_type": "code",
   "execution_count": null,
   "metadata": {},
   "outputs": [
    {
     "name": "stdout",
     "output_type": "stream",
     "text": [
      "15\n",
      "85\n",
      "35\n",
      "42\n",
      "51\n",
      "68\n",
      "98\n"
     ]
    }
   ],
   "source": [
    "ages=[10,15,85,35,42,51,68,98,12]\n",
    "\n",
    "def my_func(x):\n",
    "    if x<15:\n",
    "        return False\n",
    "    else:\n",
    "        return True\n",
    "adult=filter(my_func,ages)\n",
    "\n",
    "for x in adult:\n",
    "    print(x)"
   ]
  },
  {
   "cell_type": "code",
   "execution_count": null,
   "metadata": {},
   "outputs": [],
   "source": [
    "def"
   ]
  },
  {
   "cell_type": "code",
   "execution_count": null,
   "metadata": {},
   "outputs": [
    {
     "name": "stdout",
     "output_type": "stream",
     "text": [
      "[15, 85, 35, 42, 51, 68, 98]\n"
     ]
    }
   ],
   "source": [
    "a=[10,15,85,35,42,51,68,98,12]\n",
    "filter_list =filter(lambda x : x>=15 , a)\n",
    "f=list(filter_list)\n",
    "\n",
    "print(f)"
   ]
  },
  {
   "cell_type": "code",
   "execution_count": null,
   "metadata": {},
   "outputs": [
    {
     "name": "stdout",
     "output_type": "stream",
     "text": [
      "[2, 4]\n"
     ]
    }
   ],
   "source": [
    "list_a = [1, 2, 3, 4, 5]\n",
    "filter_obj = filter(lambda x: x % 2 == 0, list_a)\n",
    "even_num = list(filter_obj)\n",
    "print(even_num)"
   ]
  },
  {
   "cell_type": "code",
   "execution_count": null,
   "metadata": {},
   "outputs": [
    {
     "name": "stdout",
     "output_type": "stream",
     "text": [
      "13\n"
     ]
    }
   ],
   "source": [
    "def sumall(*args):\n",
    "    sum_ = 0\n",
    "    for num in args:\n",
    "        sum_ += num\n",
    "    return sum_\n",
    "    \n",
    "print(sumall(1,5,7))"
   ]
  },
  {
   "attachments": {},
   "cell_type": "markdown",
   "metadata": {},
   "source": [
    "### Python - Reduce Function :\n",
    "- The reduce() function is defined in the functools module. Like the map and filter functions, the reduce() function receives two arguments, a function and an iterable. \n",
    "- The reduce() function takes a function and an iterable and returns a single value.This performs a repetitive operation over the pairs of the iterable.This function is defined in functools module.\n",
    "\n",
    "- syntax : functools.reduce(myfunction, iterable, initializer)\n",
    "\n",
    "- https://python-course.eu/advanced-python/lambda-filter-reduce-map.php"
   ]
  },
  {
   "cell_type": "code",
   "execution_count": null,
   "metadata": {},
   "outputs": [
    {
     "data": {
      "text/plain": [
       "113"
      ]
     },
     "metadata": {},
     "output_type": "display_data"
    }
   ],
   "source": [
    "import functools\n",
    "functools.reduce(lambda x,y: x+y, [47,11,42,13])"
   ]
  },
  {
   "cell_type": "code",
   "execution_count": null,
   "metadata": {},
   "outputs": [
    {
     "name": "stdout",
     "output_type": "stream",
     "text": [
      "15\n"
     ]
    }
   ],
   "source": [
    "from functools import reduce\n",
    "a = [1,2,3,4,5]\n",
    "b = reduce(lambda x,y:x+y,a)\n",
    "print(b)\n",
    "\n",
    "\n",
    "####  ((((1+2)+3)+4)+5)"
   ]
  },
  {
   "attachments": {},
   "cell_type": "markdown",
   "metadata": {},
   "source": [
    "- •\tتابع ردیوس کاراییش از مقایسه کردن گرفته تا جمع کردن و.... این کد تمام اعضای لیست رو برای شما جمع میکنه. اینه که دوتا دوتا آیتم‌ها رو برمیداره و باهاشون کار میکنه... دوتا از آیتم ها رو برمیداره و میبینه کدوم بزرگتره ... ونو نگه میداره و آیتم بعدی رو برمیداره و دوباره مقایسه میکنه، و همینطوری میره تا آخر تا اینکه به بزرگترین عدد میرسه"
   ]
  },
  {
   "cell_type": "code",
   "execution_count": null,
   "metadata": {},
   "outputs": [
    {
     "name": "stdout",
     "output_type": "stream",
     "text": [
      "5\n"
     ]
    }
   ],
   "source": [
    "from functools import reduce\n",
    "a = [1,2,3,4,5]\n",
    "b = reduce(lambda x,y : x if x>y else y,a )\n",
    "print(b)"
   ]
  },
  {
   "cell_type": "code",
   "execution_count": null,
   "metadata": {},
   "outputs": [
    {
     "name": "stdout",
     "output_type": "stream",
     "text": [
      "21\n"
     ]
    }
   ],
   "source": [
    "from functools import reduce\n",
    "a = [1,2,3,4,5]\n",
    "b = reduce(lambda x,y : x+y , range(1,7) )\n",
    "print(b)"
   ]
  },
  {
   "attachments": {},
   "cell_type": "markdown",
   "metadata": {},
   "source": [
    "### End of review and continue course base on imran "
   ]
  },
  {
   "attachments": {},
   "cell_type": "markdown",
   "metadata": {},
   "source": [
    "### explain python module addition :\n",
    "\n",
    "-  وارد کردن یک ماژول برنامه جدا در برنامه دیگر و فرا خواندن آن برای ارتباط پارامتریک بین کدها در 2 محیط جداگانه \n",
    "- Python has a built-in module that you can use for mathematical tasks. The math module has a set of methods and constants.\n",
    "- https://www.w3schools.com/python/module_math.asp\n",
    "#### See video 10-Dec-2022 - imran "
   ]
  },
  {
   "attachments": {},
   "cell_type": "markdown",
   "metadata": {},
   "source": [
    "## Start video 11-Dec-2022 - iMran"
   ]
  },
  {
   "attachments": {},
   "cell_type": "markdown",
   "metadata": {},
   "source": [
    "##### filehandler vs streamhandler :\n",
    "\n",
    "- لاگیننگ  در پایتون چیست ؟\n",
    "لاگ‌ها  این امکان را برای توسعه دهندگان به وجود می‌آورند که به طور دائم جریانی که در یک برنامه در حال وقوع است را با دقت مضاعف، مانند چشمانی اضافه دنبال کنند. می‌توان گفت که لاگ‌ها به معنی گزارش‌ها در هر لحظه هستند. آن‌ها می‌توانند اطلاعاتی مانند دسترسی هر  آیپی یا اپلیکیشن به برنامه را ذخیره کنند. اگر خطایی در برنامه رخ دهد، لاگ کردن می‌تواند به صورت واضح‌تری نسبت به «ردیابی پشته‌ای وضعیت برنامه را مشخص کند.\n",
    "\n",
    "- ماژول لاگیننگ در پایتون چیست ؟\n",
    "ماژول لاگیننگ در پایتون، یک ماژول بسیار قدرتمند است که هم برای رفع نیازهای برنامه نویسان تازه‌کار و هم برای تیم‌های حرفه‌ای و سازمانی برنامه نویسی پایتون کاربرد دارد. این ماژول با اکثر کتابخانه‌های وابسته پایتون استفاده می‌شود. بنابراین، می‌توان پیام لاگ‌های برنامه را با پیام‌های کتابخانه ادغام کرد تا بتوان لاگ‌های همگنی برای اپلیکیشن خود به وجود آورد. با استفاده از دستور import  یا همان «وارد کردن» به صورت زیر می‌توان این کتابخانه را در برنامه بارگذاری کرد.\n",
    "- import logging\n",
    "- به صورت پیش‌فرض، ۵ سطح استاندارد برای رویدادهای برنامه وجود دارند که دشواری آن‌ها را نشان می‌دهند. هر کدام از آن‌ها یک  متُد مختص به خود دارد که می‌تواند برای ثبت وقایع در آن سطح مورد استفاده قرار بگیرد. در ادامه، سطح‌های وقایع بر اساس افزایش سطح اهمیت آن‌ها به ترتیب از کم به زیاد فهرست شده‌اند:\n",
    "-\tدیباگ» (اشکال‌زدایی): مقدار ارزش عددی این مورد دارای سطح اهمیت ۱۰ است.\n",
    "-\t«اینفو» (اطلاعات): دارای مقدار ارزش عددی اهمیتی برابر با ۲۰ است.\n",
    "-\t«وارنینگ» (اخطار): این سطح دارای مقدار ارزشی برابر با ۳۰ است.\n",
    "-\t«اروور» (خطا): مقدار ارزش این سطح اهمیت، ۴۰ است.\n",
    "-\t«کرینیکال» (بحران): مقدار ارزش این سطح اهمیت به عنوان پر اهمیت‌ترین سطح برابر با ۵۰ است.\n",
    "\n",
    "- https://blog.faradars.org/logging-%D8%AF%D8%B1-%D9%BE%D8%A7%DB%8C%D8%AA%D9%88%D9%86/\n",
    "\n",
    "- می‌توان برای تنظیم ماژول  لاگیننگ در پایتون به حالت مورد نظر خود از متدی با کلمه کلیدی  (بیسیک کانفیگ)  استفاده کرد\n",
    "- logging.basicConfig(filename='app.log', filemode='w', format='%(name)s - %(levelname)s - %(message)s')\n",
    "\n",
    "\n"
   ]
  },
  {
   "cell_type": "code",
   "execution_count": 2,
   "metadata": {},
   "outputs": [
    {
     "name": "stderr",
     "output_type": "stream",
     "text": [
      "WARNING:root:This is a warning message\n",
      "ERROR:root:This is an error message\n",
      "CRITICAL:root:This is a critical message\n"
     ]
    }
   ],
   "source": [
    "import logging\n",
    "\n",
    "logging.debug('This is a debug message')\n",
    "logging.info('This is an info message')\n",
    "logging.warning('This is a warning message')\n",
    "logging.error('This is an error message')\n",
    "logging.critical('This is a critical message')\n"
   ]
  },
  {
   "attachments": {},
   "cell_type": "markdown",
   "metadata": {},
   "source": [
    "- باید به این نکته توجه داشت که پیام‌های متدهای  دیباگ  و اینفو  در کدهای فوق ثبت نشده‌اند؛ این موضوع به این دلیل است که به صورت پیش فرض ماژول  لاگیننگ در پایتون، فقط پیام سطح‌های وارنینگ و بالاتر از آن را لاگ می‌کند."
   ]
  },
  {
   "attachments": {},
   "cell_type": "markdown",
   "metadata": {},
   "source": [
    "#### Log Handlers\n",
    "- We can configure the output destination of our logger with handlers. Handlers are responsible for sending the log messages to the correct destination. There are several types of handlers; the most common ones are StreamHandler and FileHandler. With StreamHandler, the logger will output to the terminal, while with FileHandler, the logger will output to a particular file.\n",
    "#### StreamHandler\n",
    "- The StreamHandler call located in the core logging package, sends logging output to stream such as sys.stdout,  sys.stderr, or any file-like object which supports the write() and flush() method.\n",
    "#### FileHandler\n",
    "- FileHandler() is a subclass of the Handler class. The FileHandler() class, located in the core logging package, sends the logging output to disk-file. it inherits the output functionality from StreamHandler.\n",
    "#### getLogger(name) :\n",
    "This means that logger names track the package/module hierarchy, and it’s intuitively obvious where events are logged just from the logger name."
   ]
  },
  {
   "cell_type": "code",
   "execution_count": 3,
   "metadata": {},
   "outputs": [
    {
     "name": "stderr",
     "output_type": "stream",
     "text": [
      "__main__ - WARNING - this is a warning\n",
      "WARNING:__main__:this is a warning\n",
      "__main__ - ERROR - This is error\n",
      "ERROR:__main__:This is error\n"
     ]
    }
   ],
   "source": [
    "import logging\n",
    "\n",
    "# creat s custom logger\n",
    "\n",
    "logger=logging.getLogger(__name__)   ## In Python, __name__ contains the full name of the current module, so this can simply work in any module.\n",
    "\n",
    "# Creat handlers \n",
    "c_handler=logging.StreamHandler() \n",
    "f_handler=logging.FileHandler('abc.log')\n",
    "c_handler.setLevel(logging.WARNING)\n",
    "f_handler.setLevel(logging.ERROR)\n",
    "\n",
    "# create formatter and add it to the handlers\n",
    "\n",
    "c_format=logging.Formatter('%(name)s - %(levelname)s - %(message)s')\n",
    "f_format=logging.Formatter('%(asctime)s - %(name)s - %(levelname)s - %(message)s')\n",
    "c_handler.setFormatter(c_format)\n",
    "f_handler.setFormatter(f_format)\n",
    "\n",
    "# add handlers to the logger :\n",
    "logger.addHandler(c_handler)\n",
    "logger.addHandler(f_handler)\n",
    "\n",
    "logger.warning('this is a warning') \n",
    "logger.error('This is error')"
   ]
  },
  {
   "attachments": {},
   "cell_type": "markdown",
   "metadata": {},
   "source": [
    "### DEBUG------>INFO------>WARNING------>ERROR------>CRITICAL"
   ]
  },
  {
   "attachments": {},
   "cell_type": "markdown",
   "metadata": {},
   "source": [
    "### Example :"
   ]
  },
  {
   "cell_type": "code",
   "execution_count": 1,
   "metadata": {},
   "outputs": [
    {
     "name": "stderr",
     "output_type": "stream",
     "text": [
      "2022-12-22 14:06:01,906 - __main__ - INFO - Diving  6 by 0\n",
      "2022-12-22 14:06:01,907 - __main__ - INFO - Zerro division error\n"
     ]
    },
    {
     "name": "stdout",
     "output_type": "stream",
     "text": [
      "None\n"
     ]
    }
   ],
   "source": [
    "import logging                                                                       ## Add logging\n",
    "\n",
    "logger =logging.getLogger(__name__)                                                  ## Add Logger\n",
    "handler=logging.StreamHandler()                                                      ## Add Handler\n",
    " \n",
    "formatter=logging.Formatter('%(asctime)s - %(name)s - %(levelname)s - %(message)s')  ## Add Formatter\n",
    "\n",
    "handler.setFormatter(formatter)\n",
    "\n",
    "logger.addHandler(handler)\n",
    "logger.setLevel(logging.INFO)\n",
    "\n",
    "def divide(a,b):\n",
    "    try:\n",
    "        logger.info(f\"Diving  {a} by {b}\")\n",
    "        return a/b\n",
    "    except ZeroDivisionError:\n",
    "        logger.info(\"Zerro division error\")\n",
    "\n",
    "print(divide(6,0))"
   ]
  },
  {
   "attachments": {},
   "cell_type": "markdown",
   "metadata": {},
   "source": [
    "#### برنامه نویسی شی گرا\n",
    "\n",
    "### Object-Oriented Programming\n",
    "\n",
    "- The main concept of OOPs is to bind the data and the functions that work on that together as a single unit so that no other part of the code can access this data\n",
    "\n",
    "- https://python.coderz.ir/lessons/l05.html\n",
    "\n",
    "- class :  A class is a collection of objects. A class contains the \" blueprints \" or the prototype from which the objects are being created\n",
    "  \n",
    "- object:  The object is an entity that has a state and behavior associated with it. It may be any real-world object like a mouse, keyboard, chair, table, pen, etc. Integers, strings, floating-point numbers, even arrays, and dictionaries, are all objects. شی-اشیا\n",
    "- An object consists of : State(breed, age, or color of the dog.) & Behavior(dog is eating or sleeping) & Identity(name of the dog)\n",
    "- behavior هر کلاس -رفتار\n",
    "- Attributes صفات\n",
    "- Instance : هر شی بیانگر یک «حالت» یا یک نمونه\n",
    "- دو نوع کلاس در شی گرایی وجود دارد که عبارتند از\n",
    "- Concrete Class : کلاس‌های عادی که توانایی نمونه‌سازی دارند و به آن‌ها\n",
    "- Abstract Class : کلاس‌هایی که توانایی نمونه‌سازی ندارند و به آن‌ها\n",
    "- Encapsulation : کپسوله‌سازی به معنی قرار دادن عناصر یک ساختار در قالب موجودیتی جدید می‌باشد. در برنامه‌نویسی شی‌گرا با ایجاد هر نمونه از کلاس، عناصر آن (صفات و رفتارها) در قالب یک موجودیت جدید به نام «شی» قرار می‌گیرد. کپسوله‌سازی در شی‌گرایی امکانی است برای پنهان‌سازی داده‌ها؛ در این شرایط اشیا بدون اینکه از درون یکدیگر و چگونگی کارکرد هم کوچکترین آگاهی داشته باشند به تعامل با یکدیگر می‌پردازند.\n",
    "- Inheritance : وراثت یکی از شکل‌های «قابلیت استفاده مجدد» کد بوده که برنامه‌نویس را قادر می‌سازد تا با ارث‌بری صفات و متدهای یک یا چند کلاس موجود، کلاس‌های جدیدی را ایجاد نماید.\n",
    "- Superclass - Base Class - Parent Class : به کلاسی که از آن ارث‌بری می‌شود\n",
    "- Subclass - Derived Class - Child Class : به کلاسی که اقدام به ارث‌بری می‌کند \n",
    "- Composition : ترکیب که شکل دیگری از قابلیت استفاده مجدد کد می‌باشد ولی مفهومی متفاوت با وراثت دارد. این نسبت زمانی بیان می‌شود که درون یک کلاس مانند سی از کلاس دیگر مانند دی نمونه سازی شده باشد، یعنی شی کلاس سی درون خودش شی ای از کلاس دی را داشته باشد\n",
    "-  "
   ]
  },
  {
   "attachments": {},
   "cell_type": "markdown",
   "metadata": {},
   "source": [
    "### Main Concepts of Object-Oriented Programming (OOPs) \n",
    "- Class : Is a blueprint or code template for object creation\n",
    "- Objects : Is instance of class.\n",
    "- Properties Objects------> Attribute and Instance variable\n",
    "- Functionality of object------> Methods / function() \n",
    "- Polymorphism\n",
    "- Encapsulation\n",
    "- Inheritance\n",
    "- Data Abstraction\n",
    "### self in Python class :\n",
    "- self represents the instance of the class. By using the “self”  we can access the attributes and methods of the class in python.The reason you need to use self. is because Python does not use the @ syntax to refer to instance attributes.\n",
    "### The __init__ method :\n",
    "- The __init__ method is the Python  is an object-oriented approach. The __init__ function is called every time an object is created from a class. \n",
    "- The __init__ method lets the class initialize the object's attributes and serves no other purpose. It is only used within classes\n",
    "\n",
    "### car is a Object :\n",
    "- has Properties ( Attributes ) -------------------> Color and Price and Model and Milage.....\n",
    "- has Functionality ( Method ) ----------------> Drive \n",
    "\n",
    "### Person is a Object :\n",
    "- has Properties ( Attributes ) -------------------> Name and profession and .....\n",
    "- has Functionality ( Method ) ----------------> work and study and ......."
   ]
  },
  {
   "cell_type": "code",
   "execution_count": 1,
   "metadata": {},
   "outputs": [],
   "source": [
    "class Emp:\n",
    "    pass"
   ]
  },
  {
   "cell_type": "code",
   "execution_count": 2,
   "metadata": {},
   "outputs": [],
   "source": [
    "e = Emp()"
   ]
  },
  {
   "cell_type": "code",
   "execution_count": 3,
   "metadata": {},
   "outputs": [
    {
     "name": "stdout",
     "output_type": "stream",
     "text": [
      "<class '__main__.Emp'>\n"
     ]
    }
   ],
   "source": [
    "print(type(e))"
   ]
  },
  {
   "cell_type": "code",
   "execution_count": 9,
   "metadata": {},
   "outputs": [
    {
     "data": {
      "text/plain": [
       "1363370873072"
      ]
     },
     "execution_count": 9,
     "metadata": {},
     "output_type": "execute_result"
    }
   ],
   "source": [
    "id(e)"
   ]
  },
  {
   "attachments": {},
   "cell_type": "markdown",
   "metadata": {},
   "source": [
    "### What is the '__ main __ class?\n",
    "\n",
    "- __main__ \n",
    "-  Top-level code environment. In Python, the special name __main__ is used for two important constructs: the name of the top-level environment of the program, which can be checked using the __name__ == '__main__' expression; __main__ is the name of the module, here as you are directly executing it, its being considered as a script and all scripts have the name __main__ in Python.\n",
    "\n",
    "### id() function in Python :\n",
    "- id() is an inbuilt function in Python. Syntax : id(object)\n",
    "- تابع (  آی دی) شناسه ی یکتای مربوط به شیء ورودی را برمیگرداند. همه ی اشیاء درون پایتون، شناسه ی یکتای خود را دارند و هنگامی که هر شیء ساخته می شود، یک شناسه ی یکتا به آن تعلق می گیرد."
   ]
  },
  {
   "cell_type": "code",
   "execution_count": 8,
   "metadata": {},
   "outputs": [
    {
     "name": "stdout",
     "output_type": "stream",
     "text": [
      "1363371095216\n",
      "1363371095216\n",
      "True\n",
      "1363371083696\n",
      "1363371084144\n",
      "False\n"
     ]
    }
   ],
   "source": [
    "str1 = \"Farshid\"\n",
    "print(id(str1))\n",
    "\n",
    "str2 = \"Farshid\"\n",
    "print(id(str2))\n",
    "\n",
    "print(id(str1) == id(str2))\n",
    "\n",
    "list1 = [\"aakash\", \"priya\", \"abdul\"]\n",
    "print(id(list1[0]))\n",
    "print(id(list1[2]))\n",
    "\n",
    "print(id(list1[0])==id(list1[2]))\n"
   ]
  },
  {
   "attachments": {},
   "cell_type": "markdown",
   "metadata": {},
   "source": [
    "### Example ROBOT CLASS :\n",
    "- https://davesroboshack.com/programming/object-oriented-programming/"
   ]
  },
  {
   "cell_type": "code",
   "execution_count": 35,
   "metadata": {},
   "outputs": [],
   "source": [
    "class Robot:                                 ### Creat Class\n",
    "                                             ### class names are written with the first letter as a capital letter\n",
    "    def introduce_self(self):                ### Creat Method (The above Method doesn’t make use of its Attributes)\n",
    "        print(\"My name is\" + self.name) \n",
    "        "
   ]
  },
  {
   "cell_type": "code",
   "execution_count": 16,
   "metadata": {},
   "outputs": [],
   "source": [
    "r1=Robot()                                   ### Creat object"
   ]
  },
  {
   "cell_type": "code",
   "execution_count": 17,
   "metadata": {},
   "outputs": [],
   "source": [
    "r1.name=\" Farshid Hesami\"                   ### Create Multiple attribute that connect to object"
   ]
  },
  {
   "cell_type": "code",
   "execution_count": 20,
   "metadata": {},
   "outputs": [
    {
     "name": "stdout",
     "output_type": "stream",
     "text": [
      "My name is Farshid Hesami\n"
     ]
    }
   ],
   "source": [
    "r1.introduce_self()"
   ]
  },
  {
   "cell_type": "code",
   "execution_count": 21,
   "metadata": {},
   "outputs": [],
   "source": [
    "r2=Robot()"
   ]
  },
  {
   "cell_type": "code",
   "execution_count": 24,
   "metadata": {},
   "outputs": [],
   "source": [
    "r2.name= \" Nadia Sooroorkhah\""
   ]
  },
  {
   "cell_type": "code",
   "execution_count": 25,
   "metadata": {},
   "outputs": [
    {
     "name": "stdout",
     "output_type": "stream",
     "text": [
      "My name is Nadia Sooroorkhah\n"
     ]
    }
   ],
   "source": [
    "r2.introduce_self()"
   ]
  },
  {
   "cell_type": "code",
   "execution_count": 50,
   "metadata": {},
   "outputs": [
    {
     "name": "stdout",
     "output_type": "stream",
     "text": [
      "my name is farshid hesami\n",
      "my name is Nadia JAAAN\n"
     ]
    }
   ],
   "source": [
    "class Robot:\n",
    "    def introduce_self(self):\n",
    "        print(\"my name is\" + self.name)\n",
    "r1=Robot()\n",
    "r1.name=\" farshid hesami\"\n",
    "r1.introduce_self()\n",
    "r2=Robot()\n",
    "r2.name=\" Nadia JAAAN\"\n",
    "r2.introduce_self()"
   ]
  },
  {
   "attachments": {},
   "cell_type": "markdown",
   "metadata": {},
   "source": [
    "### Note :"
   ]
  },
  {
   "cell_type": "code",
   "execution_count": null,
   "metadata": {},
   "outputs": [],
   "source": [
    "#r3=Robot()\n",
    "#r3.introduce_self()  ## Note :'Robot' object has no attribute 'introduce_self'\n",
    "\n",
    "---------------------------------------------------------------------------\n",
    "AttributeError                            Traceback (most recent call last)\n",
    "Cell In [47], line 2\n",
    "      1 r3=Robot()\n",
    "----> 2 r3.introduce_self()\n",
    "\n",
    "AttributeError: 'Robot' object has no attribute 'introduce_self'"
   ]
  },
  {
   "cell_type": "code",
   "execution_count": 53,
   "metadata": {},
   "outputs": [
    {
     "name": "stdout",
     "output_type": "stream",
     "text": [
      "my name is Robot' object must be has  attribute 'introduce_self\n"
     ]
    }
   ],
   "source": [
    "r3=Robot()\n",
    "r3.name=\" Robot' object must be has  attribute 'introduce_self\"\n",
    "r3.introduce_self()"
   ]
  },
  {
   "attachments": {},
   "cell_type": "markdown",
   "metadata": {},
   "source": [
    "### The dir() function:\n",
    "- dir() is a powerful inbuilt function in Python3, which returns list of the attributes and methods of any object (say functions , modules, strings, lists, dictionaries etc.)"
   ]
  },
  {
   "cell_type": "code",
   "execution_count": 43,
   "metadata": {},
   "outputs": [
    {
     "data": {
      "text/plain": [
       "['__class__',\n",
       " '__delattr__',\n",
       " '__dict__',\n",
       " '__dir__',\n",
       " '__doc__',\n",
       " '__eq__',\n",
       " '__format__',\n",
       " '__ge__',\n",
       " '__getattribute__',\n",
       " '__gt__',\n",
       " '__hash__',\n",
       " '__init__',\n",
       " '__init_subclass__',\n",
       " '__le__',\n",
       " '__lt__',\n",
       " '__module__',\n",
       " '__ne__',\n",
       " '__new__',\n",
       " '__reduce__',\n",
       " '__reduce_ex__',\n",
       " '__repr__',\n",
       " '__setattr__',\n",
       " '__sizeof__',\n",
       " '__str__',\n",
       " '__subclasshook__',\n",
       " '__weakref__',\n",
       " 'introduce_self',\n",
       " 'name']"
      ]
     },
     "execution_count": 43,
     "metadata": {},
     "output_type": "execute_result"
    }
   ],
   "source": [
    "dir(r1)"
   ]
  },
  {
   "attachments": {},
   "cell_type": "markdown",
   "metadata": {},
   "source": [
    "### What is __init__ in Python?\n",
    "- The __init__ method allows you to accept arguments to your class.\n",
    "More importantly, the __init__ method allows you to assign initial values to various attributes on your class instances.\n",
    "\n",
    "### What is difference between self and __init__ methods in python Class?\n",
    "- \" self \" \n",
    "- The word 'self' is used to represent the instance of a class. By using the \"self\" keyword we access the attributes and methods of the class in python.\n",
    "\n",
    "- __init__ method : \n",
    "- \"__init__\" is a reseved method in python classes. It is called as a constructor in object oriented terminology. This method is called when an object is created from a class and it allows the class to initialize the attributes of the class\n"
   ]
  },
  {
   "attachments": {},
   "cell_type": "markdown",
   "metadata": {},
   "source": [
    "### Example  CLASS (__init__) :"
   ]
  },
  {
   "cell_type": "code",
   "execution_count": 72,
   "metadata": {},
   "outputs": [],
   "source": [
    "class Robot:\n",
    "    \n",
    "    def __init__(self,name,color,weight):      ### name and color and weight as Attributes\n",
    "        self.name=name\n",
    "        self.color=color\n",
    "        self.weight=weight\n",
    "       \n",
    "    def introduce_self(self):\n",
    "        print(\"My name is\" + self.name)"
   ]
  },
  {
   "cell_type": "code",
   "execution_count": 68,
   "metadata": {},
   "outputs": [],
   "source": [
    "r4=Robot(\" farshid\",\"Yellow\",\"78\")   ## r4 is a object"
   ]
  },
  {
   "cell_type": "code",
   "execution_count": 73,
   "metadata": {},
   "outputs": [
    {
     "data": {
      "text/plain": [
       "'Yellow'"
      ]
     },
     "execution_count": 73,
     "metadata": {},
     "output_type": "execute_result"
    }
   ],
   "source": [
    "r4.color"
   ]
  },
  {
   "cell_type": "code",
   "execution_count": 74,
   "metadata": {},
   "outputs": [
    {
     "data": {
      "text/plain": [
       "'78'"
      ]
     },
     "execution_count": 74,
     "metadata": {},
     "output_type": "execute_result"
    }
   ],
   "source": [
    "r4.weight"
   ]
  },
  {
   "cell_type": "code",
   "execution_count": 75,
   "metadata": {},
   "outputs": [
    {
     "data": {
      "text/plain": [
       "' farshid'"
      ]
     },
     "execution_count": 75,
     "metadata": {},
     "output_type": "execute_result"
    }
   ],
   "source": [
    "r4.name"
   ]
  },
  {
   "cell_type": "code",
   "execution_count": 69,
   "metadata": {},
   "outputs": [],
   "source": [
    "r5=Robot(\" Nadia\",\"Blue\",\"52\")"
   ]
  },
  {
   "cell_type": "code",
   "execution_count": 70,
   "metadata": {},
   "outputs": [
    {
     "name": "stdout",
     "output_type": "stream",
     "text": [
      "My name is farshid\n"
     ]
    }
   ],
   "source": [
    "r4.introduce_self()"
   ]
  },
  {
   "cell_type": "code",
   "execution_count": 71,
   "metadata": {},
   "outputs": [
    {
     "name": "stdout",
     "output_type": "stream",
     "text": [
      "My name is Nadia\n"
     ]
    }
   ],
   "source": [
    "r5.introduce_self()"
   ]
  },
  {
   "attachments": {},
   "cell_type": "markdown",
   "metadata": {},
   "source": [
    "### Example  CLASS (__init__) :"
   ]
  },
  {
   "attachments": {},
   "cell_type": "markdown",
   "metadata": {},
   "source": [
    "### Note :\n",
    "- Self is a keyword and we can use other name like \"a and b and c ......."
   ]
  },
  {
   "cell_type": "code",
   "execution_count": 1,
   "metadata": {},
   "outputs": [],
   "source": [
    "class Person:\n",
    "    \n",
    "    def __init__(self,name,surname,birthday,address,cellphone,profession,email) :    ## Self refere to o1 and o2 and ......\n",
    "        \n",
    "        self.name=name\n",
    "        self.surname=surname\n",
    "        self.birthday=birthday\n",
    "        \n",
    "        self.address=address\n",
    "        self.cellphone=cellphone\n",
    "        self.profession=profession\n",
    "        \n",
    "        self.email=email\n",
    "        \n",
    "    def show(self):\n",
    "        print(\n",
    "            \"name :\",self.name,\n",
    "            \"surname :\",self.surname,\n",
    "            \"birthday :\",self.birthday,\n",
    "            \"address :\",self.address,\n",
    "            \"cellphone :\",self.cellphone,\n",
    "            \"profession :\",self.profession,\n",
    "            \"email :\",self.email\n",
    "            )\n",
    "        \n",
    "    def work(self):\n",
    "        print(self.name,\"Working as a\", self.email)\n",
    "        \n",
    "    def number(self):\n",
    "        print(self.cellphone,\" is not my business phone number and please send email to : \", self.email)\n",
    "        "
   ]
  },
  {
   "cell_type": "code",
   "execution_count": 2,
   "metadata": {},
   "outputs": [],
   "source": [
    "## Create a object \n",
    "## Self refere to o1 and o2 and ......\n",
    "\n",
    "o1=Person(\"farshid\\n\",\"Hesami\",\"1978,07,10\\n\",\"Tehran,Floor 4-No 50 -Banafsheh 2th street -Baharan town-Shahran distric\\n\",\n",
    "          \"00989123387563\\n\",\"Data Scientist Engineer\\n\",\"farshidhesami@gmail.com\\n\")"
   ]
  },
  {
   "cell_type": "code",
   "execution_count": 3,
   "metadata": {},
   "outputs": [
    {
     "name": "stdout",
     "output_type": "stream",
     "text": [
      "name : farshid\n",
      " surname : Hesami birthday : 1978,07,10\n",
      " address : Tehran,Floor 4-No 50 -Banafsheh 2th street -Baharan town-Shahran distric\n",
      " cellphone : 00989123387563\n",
      " profession : Data Scientist Engineer\n",
      " email : farshidhesami@gmail.com\n",
      "\n"
     ]
    }
   ],
   "source": [
    "    o1.show()"
   ]
  },
  {
   "cell_type": "code",
   "execution_count": 4,
   "metadata": {},
   "outputs": [
    {
     "name": "stdout",
     "output_type": "stream",
     "text": [
      "farshid\n",
      " Working as a farshidhesami@gmail.com\n",
      "\n"
     ]
    }
   ],
   "source": [
    "o1.work()"
   ]
  },
  {
   "cell_type": "code",
   "execution_count": 6,
   "metadata": {},
   "outputs": [
    {
     "name": "stdout",
     "output_type": "stream",
     "text": [
      "00989123387563\n",
      "  is not my business phone number and please send email to :  farshidhesami@gmail.com\n",
      "\n"
     ]
    }
   ],
   "source": [
    "o1.number()"
   ]
  },
  {
   "cell_type": "code",
   "execution_count": 7,
   "metadata": {},
   "outputs": [
    {
     "data": {
      "text/plain": [
       "'Tehran,Floor 4-No 50 -Banafsheh 2th street -Baharan town-Shahran distric\\n'"
      ]
     },
     "execution_count": 7,
     "metadata": {},
     "output_type": "execute_result"
    }
   ],
   "source": [
    "o1.address"
   ]
  },
  {
   "cell_type": "code",
   "execution_count": 8,
   "metadata": {},
   "outputs": [],
   "source": [
    "o2=Person(\"Nadia\\n\",\"sooroorkhah \\n\",\"1970,07,10 \\n\",\"Tehran,Elahiye town \\n\",\n",
    "          \"00989124238543 \\n\",\"secretary manager \\n\",\"nadiasooroor@gmail.com \\n\")"
   ]
  },
  {
   "cell_type": "code",
   "execution_count": 9,
   "metadata": {},
   "outputs": [
    {
     "name": "stdout",
     "output_type": "stream",
     "text": [
      "name : Nadia\n",
      " surname : sooroorkhah \n",
      " birthday : 1970,07,10 \n",
      " address : Tehran,Elahiye town \n",
      " cellphone : 00989124238543 \n",
      " profession : secretary manager \n",
      " email : nadiasooroor@gmail.com \n",
      "\n"
     ]
    }
   ],
   "source": [
    "o2.show()"
   ]
  },
  {
   "cell_type": "code",
   "execution_count": 10,
   "metadata": {},
   "outputs": [
    {
     "data": {
      "text/plain": [
       "['__class__',\n",
       " '__delattr__',\n",
       " '__dict__',\n",
       " '__dir__',\n",
       " '__doc__',\n",
       " '__eq__',\n",
       " '__format__',\n",
       " '__ge__',\n",
       " '__getattribute__',\n",
       " '__gt__',\n",
       " '__hash__',\n",
       " '__init__',\n",
       " '__init_subclass__',\n",
       " '__le__',\n",
       " '__lt__',\n",
       " '__module__',\n",
       " '__ne__',\n",
       " '__new__',\n",
       " '__reduce__',\n",
       " '__reduce_ex__',\n",
       " '__repr__',\n",
       " '__setattr__',\n",
       " '__sizeof__',\n",
       " '__str__',\n",
       " '__subclasshook__',\n",
       " '__weakref__',\n",
       " 'address',\n",
       " 'birthday',\n",
       " 'cellphone',\n",
       " 'email',\n",
       " 'name',\n",
       " 'number',\n",
       " 'profession',\n",
       " 'show',\n",
       " 'surname',\n",
       " 'work']"
      ]
     },
     "execution_count": 10,
     "metadata": {},
     "output_type": "execute_result"
    }
   ],
   "source": [
    "dir(o1)"
   ]
  },
  {
   "attachments": {},
   "cell_type": "markdown",
   "metadata": {},
   "source": [
    "### Example  CLASS  :"
   ]
  },
  {
   "cell_type": "code",
   "execution_count": 164,
   "metadata": {},
   "outputs": [],
   "source": [
    "class Emp:\n",
    "    def __init__(self):\n",
    "        print(id(self))\n",
    "        self.age=43\n",
    "        self.name= \"farshid\"\n",
    "        self.salary=10000\n",
    "        self.weight=78"
   ]
  },
  {
   "cell_type": "code",
   "execution_count": 165,
   "metadata": {},
   "outputs": [
    {
     "name": "stdout",
     "output_type": "stream",
     "text": [
      "2305097229040\n"
     ]
    }
   ],
   "source": [
    "e1=Emp()"
   ]
  },
  {
   "cell_type": "code",
   "execution_count": 166,
   "metadata": {},
   "outputs": [
    {
     "data": {
      "text/plain": [
       "10000"
      ]
     },
     "execution_count": 166,
     "metadata": {},
     "output_type": "execute_result"
    }
   ],
   "source": [
    "e1.salary"
   ]
  },
  {
   "cell_type": "code",
   "execution_count": 167,
   "metadata": {},
   "outputs": [
    {
     "data": {
      "text/plain": [
       "43"
      ]
     },
     "execution_count": 167,
     "metadata": {},
     "output_type": "execute_result"
    }
   ],
   "source": [
    "e1.age\n"
   ]
  },
  {
   "cell_type": "code",
   "execution_count": 169,
   "metadata": {},
   "outputs": [
    {
     "data": {
      "text/plain": [
       "78"
      ]
     },
     "execution_count": 169,
     "metadata": {},
     "output_type": "execute_result"
    }
   ],
   "source": [
    "e1.weight"
   ]
  },
  {
   "attachments": {},
   "cell_type": "markdown",
   "metadata": {},
   "source": [
    "### Example :\n",
    "- Class class bankaccount \n",
    "- Creat constructor accountnumber , name , balance\n",
    "- deposit()\n",
    "- withdraw()\n",
    "- Display account details"
   ]
  },
  {
   "cell_type": "code",
   "execution_count": null,
   "metadata": {},
   "outputs": [],
   "source": [
    "class Bankaccount:\n",
    "    \n",
    "    def __init__(self,account_number,name,balance):\n",
    "        \n",
    "        self.account_number = account_number\n",
    "        self.name=name\n",
    "        self.balance= balance\n",
    "        "
   ]
  },
  {
   "cell_type": "code",
   "execution_count": null,
   "metadata": {},
   "outputs": [],
   "source": []
  },
  {
   "cell_type": "code",
   "execution_count": null,
   "metadata": {},
   "outputs": [],
   "source": []
  },
  {
   "cell_type": "code",
   "execution_count": null,
   "metadata": {},
   "outputs": [],
   "source": []
  },
  {
   "attachments": {},
   "cell_type": "markdown",
   "metadata": {},
   "source": [
    "### Example : Create Bankaccount class with deposit, withdraw function\n",
    " - https://www.geeksforgeeks.org/python-program-to-create-bankaccount-class-with-deposit-withdraw-function/"
   ]
  },
  {
   "cell_type": "code",
   "execution_count": null,
   "metadata": {},
   "outputs": [],
   "source": [
    "# Python program to create Bankaccount class\n",
    "# with both a deposit() and a withdraw() function\n",
    "class Bank_Account:\n",
    "\tdef __init__(self):\n",
    "\t\tself.balance=0\n",
    "\t\tprint(\"Hello!!! Welcome to the Deposit & Withdrawal Machine\")\n",
    "\n",
    "\tdef deposit(self):\n",
    "\t\tamount=float(input(\"Enter amount to be Deposited: \"))\n",
    "\t\tself.balance += amount\n",
    "\t\tprint(\"\\n Amount Deposited:\",amount)\n",
    "\n",
    "\tdef withdraw(self):\n",
    "\t\tamount = float(input(\"Enter amount to be Withdrawn: \"))\n",
    "\t\tif self.balance>=amount:\n",
    "\t\t\tself.balance-=amount\n",
    "\t\t\tprint(\"\\n You Withdrew:\", amount)\n",
    "\t\telse:\n",
    "\t\t\tprint(\"\\n Insufficient balance \")\n",
    "\n",
    "\tdef display(self):\n",
    "\t\tprint(\"\\n Net Available Balance=\",self.balance)\n",
    "\n",
    "# Driver code\n",
    "\n",
    "# creating an object of class\n",
    "s = Bank_Account()\n",
    "\n",
    "# Calling functions with that class object\n",
    "s.deposit()\n",
    "s.withdraw()\n",
    "s.display()\n"
   ]
  }
 ],
 "metadata": {
  "kernelspec": {
   "display_name": "PyCharm",
   "language": "python",
   "name": "python3"
  },
  "language_info": {
   "codemirror_mode": {
    "name": "ipython",
    "version": 3
   },
   "file_extension": ".py",
   "mimetype": "text/x-python",
   "name": "python",
   "nbconvert_exporter": "python",
   "pygments_lexer": "ipython3",
   "version": "3.10.7"
  },
  "orig_nbformat": 4,
  "vscode": {
   "interpreter": {
    "hash": "32e02808815dfbcf20706a2684512e23abd049524ca2d7035785a423ee51ca17"
   }
  }
 },
 "nbformat": 4,
 "nbformat_minor": 2
}
