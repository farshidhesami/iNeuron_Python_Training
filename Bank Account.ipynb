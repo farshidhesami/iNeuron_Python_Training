class Bank:
    def __init__(self):
        self.balance = 0
        print("The account is created")
        
    def deposit(self):
        amount = float(input("Enter the amount to be deposited : "))
        self.balance += amount                     ## self.balance = self.balance + amount
        print(" Deposit is successful and the balance in the account is %f" % self.balance)
        
    def withdraw(self):
        amount = float(input("Enter the amount to be withdraw : "))
        if(self.balance >= amount):
            self.balance -= amount
            print("The withdraw is successful and balance is %f" % self.balance)
            
        else:
            print("insufficient balance")    
            
    def enquiry(self):
        print("balance in the acount is %f" % self.balance)
        
        
acc = Bank()
acc.deposit()
acc.withdraw()
acc.enquiry()
