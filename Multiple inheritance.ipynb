{
 "cells": [
  {
   "cell_type": "code",
   "execution_count": 4,
   "metadata": {},
   "outputs": [],
   "source": [
    "## Parent class 1\n",
    "class Batch_number:\n",
    "    batchnumber = \"\"\n",
    "    def __init__(self,a,b,c):\n",
    "        self.a = a\n",
    "        self.b = b\n",
    "        self.c = c\n",
    "        \n",
    "    def batch(self):\n",
    "        print(self.batchnumber)\n",
    "        \n",
    "## Parent class 1\n",
    "class Course_name:\n",
    "    cname =\"\" \n",
    "    def course(self):\n",
    "        print(self.cname)\n",
    "        \n",
    "## child class \n",
    "class Student(Batch_number,Course_name):\n",
    "    def show(self):\n",
    "        print(\"Batch : \" , self.batchnumber)\n",
    "        print(\"Course : \" , self.cname)     "
   ]
  },
  {
   "cell_type": "code",
   "execution_count": 7,
   "metadata": {},
   "outputs": [],
   "source": [
    "s1 = Student(4,5,6)"
   ]
  },
  {
   "cell_type": "code",
   "execution_count": 11,
   "metadata": {},
   "outputs": [],
   "source": [
    "s1.batchnumber=\"380321\""
   ]
  },
  {
   "cell_type": "code",
   "execution_count": 12,
   "metadata": {},
   "outputs": [],
   "source": [
    "s1.cname = \"Full Stack Data Science BootCamp 2.0\""
   ]
  },
  {
   "cell_type": "code",
   "execution_count": 13,
   "metadata": {},
   "outputs": [
    {
     "name": "stdout",
     "output_type": "stream",
     "text": [
      "Full Stack Data Science BootCamp 2.0\n"
     ]
    }
   ],
   "source": [
    "s1.course()"
   ]
  },
  {
   "cell_type": "code",
   "execution_count": 16,
   "metadata": {},
   "outputs": [
    {
     "data": {
      "text/plain": [
       "'380321'"
      ]
     },
     "execution_count": 16,
     "metadata": {},
     "output_type": "execute_result"
    }
   ],
   "source": [
    "s1.batchnumber"
   ]
  },
  {
   "cell_type": "code",
   "execution_count": 17,
   "metadata": {},
   "outputs": [
    {
     "name": "stdout",
     "output_type": "stream",
     "text": [
      "Batch :  380321\n",
      "Course :  Full Stack Data Science BootCamp 2.0\n"
     ]
    }
   ],
   "source": [
    "s1.show()"
   ]
  }
 ],
 "metadata": {
  "kernelspec": {
   "display_name": "PyCharm",
   "language": "python",
   "name": "python3"
  },
  "language_info": {
   "codemirror_mode": {
    "name": "ipython",
    "version": 3
   },
   "file_extension": ".py",
   "mimetype": "text/x-python",
   "name": "python",
   "nbconvert_exporter": "python",
   "pygments_lexer": "ipython3",
   "version": "3.10.7"
  },
  "orig_nbformat": 4,
  "vscode": {
   "interpreter": {
    "hash": "32e02808815dfbcf20706a2684512e23abd049524ca2d7035785a423ee51ca17"
   }
  }
 },
 "nbformat": 4,
 "nbformat_minor": 2
}
