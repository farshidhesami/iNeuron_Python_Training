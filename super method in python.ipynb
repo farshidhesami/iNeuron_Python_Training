{
 "cells": [
  {
   "attachments": {},
   "cell_type": "markdown",
   "metadata": {},
   "source": [
    "### Super() in python definition :"
   ]
  },
  {
   "cell_type": "code",
   "execution_count": 1,
   "metadata": {},
   "outputs": [],
   "source": [
    "## A------->B       B-------->C  and  C2\n",
    "\n",
    "class A:\n",
    "    def __init__(self):\n",
    "        print(\"initiated\")\n",
    "        \n",
    "class B(A):\n",
    "    def __init__(self):\n",
    "        super().__init__()\n",
    "        print(\"B initiated\")\n",
    "        \n",
    "class C(B):\n",
    "    def __init__(self):\n",
    "        super(C ,self).__init__()\n",
    "        print(\"C initiated\")\n",
    "        \n",
    "class C2(B):\n",
    "    def __init__(self):\n",
    "        super(B .self).__init__()\n",
    "        print(\"Other C initiated\")\n",
    "    "
   ]
  },
  {
   "attachments": {},
   "cell_type": "markdown",
   "metadata": {},
   "source": [
    "### Example super() :\n",
    "-  Create a class that will inherit all the methods and properties from another class"
   ]
  },
  {
   "cell_type": "code",
   "execution_count": 3,
   "metadata": {},
   "outputs": [],
   "source": [
    "class Parent:\n",
    "    def __init__(self , txt):\n",
    "        self.message = txt\n",
    "        \n",
    "    def printmessage(self):\n",
    "        print(self.message)\n",
    "        \n",
    "        \n",
    "class Child(Parent):\n",
    "    def __init__(self, txt):\n",
    "        super().__init__(txt)"
   ]
  },
  {
   "cell_type": "code",
   "execution_count": 4,
   "metadata": {},
   "outputs": [
    {
     "name": "stdout",
     "output_type": "stream",
     "text": [
      "Hello , And  welcome to my world\n"
     ]
    }
   ],
   "source": [
    "x = Child (\"Hello , And  welcome to my world\")\n",
    "x.printmessage()"
   ]
  }
 ],
 "metadata": {
  "kernelspec": {
   "display_name": "Python 3",
   "language": "python",
   "name": "python3"
  },
  "language_info": {
   "codemirror_mode": {
    "name": "ipython",
    "version": 3
   },
   "file_extension": ".py",
   "mimetype": "text/x-python",
   "name": "python",
   "nbconvert_exporter": "python",
   "pygments_lexer": "ipython3",
   "version": "3.10.7"
  },
  "orig_nbformat": 4,
  "vscode": {
   "interpreter": {
    "hash": "315f847cfb823ac3caaf01cae7659bcfed52a7a40830e751d97296265654d3c9"
   }
  }
 },
 "nbformat": 4,
 "nbformat_minor": 2
}
